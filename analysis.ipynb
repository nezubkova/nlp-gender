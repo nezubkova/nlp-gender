{
 "cells": [
  {
   "cell_type": "code",
   "execution_count": 1,
   "metadata": {
    "collapsed": true
   },
   "outputs": [],
   "source": [
    "import eli5\n",
    "import pandas as pd\n",
    "import re\n",
    "import numpy as np\n",
    "import warnings\n",
    "\n",
    "warnings.filterwarnings(\"ignore\")\n",
    "\n",
    "from sklearn.model_selection import train_test_split, GridSearchCV\n",
    "from sklearn.linear_model import LinearRegression, LogisticRegression\n",
    "from sklearn.metrics import f1_score, mean_squared_error, classification_report\n",
    "from sklearn.feature_extraction.text import TfidfVectorizer\n",
    "from sklearn.preprocessing import MaxAbsScaler\n",
    "from sklearn.feature_extraction.text import CountVectorizer"
   ]
  },
  {
   "cell_type": "code",
   "execution_count": 2,
   "outputs": [],
   "source": [
    "df = pd.read_csv('/Users/m.e.zubkova/Documents/diploma_final.csv')"
   ],
   "metadata": {
    "collapsed": false,
    "pycharm": {
     "name": "#%%\n"
    }
   }
  },
  {
   "cell_type": "code",
   "execution_count": 101,
   "outputs": [],
   "source": [
    "df.to_csv('diploma_final.csv', index=False)"
   ],
   "metadata": {
    "collapsed": false,
    "pycharm": {
     "name": "#%%\n"
    }
   }
  },
  {
   "cell_type": "code",
   "execution_count": 3,
   "outputs": [],
   "source": [
    "male_names = pd.read_json('/Users/m.e.zubkova/Downloads/nlp-gender/male_names.json')\n",
    "female_names = pd.read_json('/Users/m.e.zubkova/Downloads/nlp-gender/female_names.json')"
   ],
   "metadata": {
    "collapsed": false,
    "pycharm": {
     "name": "#%%\n"
    }
   }
  },
  {
   "cell_type": "code",
   "execution_count": 4,
   "outputs": [],
   "source": [
    "def sex_classify(name: str):\n",
    "    if name in male_names.values:\n",
    "        return 'male'\n",
    "    if name in female_names.values:\n",
    "        return 'female'\n",
    "    return 'not in list of names'"
   ],
   "metadata": {
    "collapsed": false,
    "pycharm": {
     "name": "#%%\n"
    }
   }
  },
  {
   "cell_type": "code",
   "execution_count": 5,
   "outputs": [],
   "source": [
    "df['freelancer_first_name'] = df.freelancer_name.apply(lambda name: name.split()[0])"
   ],
   "metadata": {
    "collapsed": false,
    "pycharm": {
     "name": "#%%\n"
    }
   }
  },
  {
   "cell_type": "code",
   "execution_count": 6,
   "outputs": [],
   "source": [
    "df['freelancer_gender'] = df.freelancer_first_name.apply(sex_classify)"
   ],
   "metadata": {
    "collapsed": false,
    "pycharm": {
     "name": "#%%\n"
    }
   }
  },
  {
   "cell_type": "markdown",
   "source": [
    "Часть имен мы вручную вписали в словарь для определения пола большего числа фрилансеров."
   ],
   "metadata": {
    "collapsed": false,
    "pycharm": {
     "name": "#%% md\n"
    }
   }
  },
  {
   "cell_type": "code",
   "execution_count": 7,
   "outputs": [],
   "source": [
    "# определим гендер для случаев, когда пользователи поменяли местами имя и фамилию\n",
    "\n",
    "df.loc[\n",
    "    (df['freelancer_gender'] == 'not in list of names'), 'freelancer_gender'\n",
    "] = df.freelancer_name.apply(\n",
    "    lambda name: sex_classify(name.split()[1]) if len(name.split()) > 1 else 'not in list of names')"
   ],
   "metadata": {
    "collapsed": false,
    "pycharm": {
     "name": "#%%\n"
    }
   }
  },
  {
   "cell_type": "code",
   "execution_count": 8,
   "outputs": [
    {
     "data": {
      "text/plain": "(604, 7)"
     },
     "execution_count": 8,
     "metadata": {},
     "output_type": "execute_result"
    }
   ],
   "source": [
    "df[df['freelancer_gender'] == 'not in list of names'].shape\n",
    "\n",
    "# без гендера осталось 604 отзыва, их мы не будем учитывать в последующем анализе"
   ],
   "metadata": {
    "collapsed": false,
    "pycharm": {
     "name": "#%%\n"
    }
   }
  },
  {
   "cell_type": "code",
   "execution_count": 9,
   "outputs": [
    {
     "data": {
      "text/plain": "female    6444\nmale      3781\nName: freelancer_gender, dtype: int64"
     },
     "execution_count": 9,
     "metadata": {},
     "output_type": "execute_result"
    }
   ],
   "source": [
    "gendered = df[df['freelancer_gender'] != 'not in list of names']\n",
    "gendered.freelancer_gender.value_counts()"
   ],
   "metadata": {
    "collapsed": false,
    "pycharm": {
     "name": "#%%\n"
    }
   }
  },
  {
   "cell_type": "code",
   "execution_count": 10,
   "outputs": [
    {
     "data": {
      "text/plain": "female    911\nmale      334\nName: freelancer_gender, dtype: int64"
     },
     "execution_count": 10,
     "metadata": {},
     "output_type": "execute_result"
    }
   ],
   "source": [
    "gendered[gendered.texts == 'Нет отзыва'].freelancer_gender.value_counts()"
   ],
   "metadata": {
    "collapsed": false,
    "pycharm": {
     "name": "#%%\n"
    }
   }
  },
  {
   "cell_type": "code",
   "execution_count": 11,
   "outputs": [],
   "source": [
    "def no_text(texts: pd.Series):\n",
    "    \"\"\"\n",
    "    Функция подсчитывает долю отзывов без текста от всех отзывов (необходимо наличие оценки)\n",
    "    \"\"\"\n",
    "    return len(texts[texts == 'Нет отзыва']) / len(texts)"
   ],
   "metadata": {
    "collapsed": false,
    "pycharm": {
     "name": "#%%\n"
    }
   }
  },
  {
   "cell_type": "code",
   "execution_count": 12,
   "outputs": [
    {
     "data": {
      "text/plain": "                      texts\nfreelancer_gender          \nfemale             0.141372\nmale               0.088336",
      "text/html": "<div>\n<style scoped>\n    .dataframe tbody tr th:only-of-type {\n        vertical-align: middle;\n    }\n\n    .dataframe tbody tr th {\n        vertical-align: top;\n    }\n\n    .dataframe thead th {\n        text-align: right;\n    }\n</style>\n<table border=\"1\" class=\"dataframe\">\n  <thead>\n    <tr style=\"text-align: right;\">\n      <th></th>\n      <th>texts</th>\n    </tr>\n    <tr>\n      <th>freelancer_gender</th>\n      <th></th>\n    </tr>\n  </thead>\n  <tbody>\n    <tr>\n      <th>female</th>\n      <td>0.141372</td>\n    </tr>\n    <tr>\n      <th>male</th>\n      <td>0.088336</td>\n    </tr>\n  </tbody>\n</table>\n</div>"
     },
     "execution_count": 12,
     "metadata": {},
     "output_type": "execute_result"
    }
   ],
   "source": [
    "gendered.groupby('freelancer_gender').agg({'texts': no_text})\n",
    "\n",
    "# доля отзывов без текста у мужчин ниже, воспользуемся критерием хи-квадрат для проверки"
   ],
   "metadata": {
    "collapsed": false,
    "pycharm": {
     "name": "#%%\n"
    }
   }
  },
  {
   "cell_type": "code",
   "execution_count": 13,
   "outputs": [
    {
     "data": {
      "text/plain": "texts_existence    False  True\nfreelancer_gender             \nfemale               911  5533\nmale                 334  3447",
      "text/html": "<div>\n<style scoped>\n    .dataframe tbody tr th:only-of-type {\n        vertical-align: middle;\n    }\n\n    .dataframe tbody tr th {\n        vertical-align: top;\n    }\n\n    .dataframe thead th {\n        text-align: right;\n    }\n</style>\n<table border=\"1\" class=\"dataframe\">\n  <thead>\n    <tr style=\"text-align: right;\">\n      <th>texts_existence</th>\n      <th>False</th>\n      <th>True</th>\n    </tr>\n    <tr>\n      <th>freelancer_gender</th>\n      <th></th>\n      <th></th>\n    </tr>\n  </thead>\n  <tbody>\n    <tr>\n      <th>female</th>\n      <td>911</td>\n      <td>5533</td>\n    </tr>\n    <tr>\n      <th>male</th>\n      <td>334</td>\n      <td>3447</td>\n    </tr>\n  </tbody>\n</table>\n</div>"
     },
     "execution_count": 13,
     "metadata": {},
     "output_type": "execute_result"
    }
   ],
   "source": [
    "gendered['texts_existence'] = gendered.texts.apply(lambda text: text != 'Нет отзыва')\n",
    "ct1 = pd.crosstab(gendered['freelancer_gender'], gendered['texts_existence'])\n",
    "ct1"
   ],
   "metadata": {
    "collapsed": false,
    "pycharm": {
     "name": "#%%\n"
    }
   }
  },
  {
   "cell_type": "code",
   "execution_count": 14,
   "outputs": [],
   "source": [
    "from scipy.stats import chi2_contingency"
   ],
   "metadata": {
    "collapsed": false,
    "pycharm": {
     "name": "#%%\n"
    }
   }
  },
  {
   "cell_type": "code",
   "execution_count": 15,
   "outputs": [
    {
     "data": {
      "text/plain": "(62.182501680642176,\n 3.130573149307869e-15,\n 1,\n array([[ 784.62396088, 5659.37603912],\n        [ 460.37603912, 3320.62396088]]))"
     },
     "execution_count": 15,
     "metadata": {},
     "output_type": "execute_result"
    }
   ],
   "source": [
    "chi2_contingency(ct1)\n",
    "\n",
    "# тест хи-квадрат показывает, что с вероятностью 99% наличие текста отзыва в отзывах на мужчин-фрилансеров и на женщин-фрилансерок значимо различается"
   ],
   "metadata": {
    "collapsed": false,
    "pycharm": {
     "name": "#%%\n"
    }
   }
  },
  {
   "cell_type": "code",
   "execution_count": 65,
   "outputs": [
    {
     "data": {
      "text/plain": "                   texts_existence\nfreelancer_gender                 \nfemale                    0.858628\nmale                      0.911664",
      "text/html": "<div>\n<style scoped>\n    .dataframe tbody tr th:only-of-type {\n        vertical-align: middle;\n    }\n\n    .dataframe tbody tr th {\n        vertical-align: top;\n    }\n\n    .dataframe thead th {\n        text-align: right;\n    }\n</style>\n<table border=\"1\" class=\"dataframe\">\n  <thead>\n    <tr style=\"text-align: right;\">\n      <th></th>\n      <th>texts_existence</th>\n    </tr>\n    <tr>\n      <th>freelancer_gender</th>\n      <th></th>\n    </tr>\n  </thead>\n  <tbody>\n    <tr>\n      <th>female</th>\n      <td>0.858628</td>\n    </tr>\n    <tr>\n      <th>male</th>\n      <td>0.911664</td>\n    </tr>\n  </tbody>\n</table>\n</div>"
     },
     "execution_count": 65,
     "metadata": {},
     "output_type": "execute_result"
    }
   ],
   "source": [
    "gendered.groupby('freelancer_gender').mean()"
   ],
   "metadata": {
    "collapsed": false,
    "pycharm": {
     "name": "#%%\n"
    }
   }
  },
  {
   "cell_type": "code",
   "execution_count": 75,
   "outputs": [
    {
     "data": {
      "text/plain": "freelancer_gender  marks        \nfemale             Пять с плюсом    458\n                   5                366\n                   4                 75\n                   3                  7\n                   2                  3\n                   1                  2\nmale               Пять с плюсом    158\n                   5                129\n                   4                 37\n                   3                  4\n                   1                  3\n                   2                  3\nName: marks, dtype: int64"
     },
     "execution_count": 75,
     "metadata": {},
     "output_type": "execute_result"
    }
   ],
   "source": [
    "gendered[gendered.texts == 'Нет отзыва'].groupby('freelancer_gender')['marks'].value_counts()"
   ],
   "metadata": {
    "collapsed": false,
    "pycharm": {
     "name": "#%%\n"
    }
   }
  },
  {
   "cell_type": "code",
   "execution_count": 16,
   "outputs": [],
   "source": [
    "# почистим от текстов без отзывов\n",
    "\n",
    "with_reviews = gendered[gendered.texts != 'Нет отзыва']"
   ],
   "metadata": {
    "collapsed": false,
    "pycharm": {
     "name": "#%%\n"
    }
   }
  },
  {
   "cell_type": "code",
   "execution_count": 17,
   "outputs": [],
   "source": [
    "from nltk.corpus import stopwords\n",
    "from pymystem3 import Mystem\n",
    "from string import punctuation"
   ],
   "metadata": {
    "collapsed": false,
    "pycharm": {
     "name": "#%%\n"
    }
   }
  },
  {
   "cell_type": "code",
   "execution_count": 18,
   "outputs": [],
   "source": [
    "mystem = Mystem()\n",
    "russian_stopwords = stopwords.words(\"russian\")"
   ],
   "metadata": {
    "collapsed": false,
    "pycharm": {
     "name": "#%%\n"
    }
   }
  },
  {
   "cell_type": "code",
   "execution_count": 19,
   "outputs": [],
   "source": [
    "# базово предобработаем тексты\n",
    "\n",
    "def preprocess_text(text):\n",
    "    tokens = mystem.lemmatize(text.lower())\n",
    "    tokens = [token for token in tokens if token not in russian_stopwords\n",
    "              and token != \" \"\n",
    "              and token.strip() not in punctuation]\n",
    "\n",
    "    return tokens"
   ],
   "metadata": {
    "collapsed": false,
    "pycharm": {
     "name": "#%%\n"
    }
   }
  },
  {
   "cell_type": "code",
   "execution_count": 20,
   "outputs": [],
   "source": [
    "with_reviews['texts_preprocessed'] = with_reviews.texts.apply(preprocess_text)"
   ],
   "metadata": {
    "collapsed": false,
    "pycharm": {
     "name": "#%%\n"
    }
   }
  },
  {
   "cell_type": "code",
   "execution_count": 21,
   "outputs": [],
   "source": [
    "set_of_names = set(map(lambda x: x.lower(), female_names.T.values.tolist()[0])) | set(map(lambda x: x.lower(), male_names.T.values.tolist()[0]))"
   ],
   "metadata": {
    "collapsed": false,
    "pycharm": {
     "name": "#%%\n"
    }
   }
  },
  {
   "cell_type": "code",
   "execution_count": 22,
   "outputs": [],
   "source": [
    "# проверим наличие имен в текстах отзывов\n",
    "with_reviews['name_in_review'] = with_reviews.texts_preprocessed.apply(lambda text: len(set(text) & set_of_names) > 0)"
   ],
   "metadata": {
    "collapsed": false,
    "pycharm": {
     "name": "#%%\n"
    }
   }
  },
  {
   "cell_type": "code",
   "execution_count": 23,
   "outputs": [
    {
     "data": {
      "text/plain": "name_in_review     False  True\nfreelancer_gender             \nfemale              3037  2496\nmale                2121  1326",
      "text/html": "<div>\n<style scoped>\n    .dataframe tbody tr th:only-of-type {\n        vertical-align: middle;\n    }\n\n    .dataframe tbody tr th {\n        vertical-align: top;\n    }\n\n    .dataframe thead th {\n        text-align: right;\n    }\n</style>\n<table border=\"1\" class=\"dataframe\">\n  <thead>\n    <tr style=\"text-align: right;\">\n      <th>name_in_review</th>\n      <th>False</th>\n      <th>True</th>\n    </tr>\n    <tr>\n      <th>freelancer_gender</th>\n      <th></th>\n      <th></th>\n    </tr>\n  </thead>\n  <tbody>\n    <tr>\n      <th>female</th>\n      <td>3037</td>\n      <td>2496</td>\n    </tr>\n    <tr>\n      <th>male</th>\n      <td>2121</td>\n      <td>1326</td>\n    </tr>\n  </tbody>\n</table>\n</div>"
     },
     "execution_count": 23,
     "metadata": {},
     "output_type": "execute_result"
    }
   ],
   "source": [
    "ct2 = pd.crosstab(with_reviews['freelancer_gender'], with_reviews['name_in_review'])\n",
    "ct2"
   ],
   "metadata": {
    "collapsed": false,
    "pycharm": {
     "name": "#%%\n"
    }
   }
  },
  {
   "cell_type": "code",
   "execution_count": 24,
   "outputs": [
    {
     "data": {
      "text/plain": "(38.06627389047619,\n 6.838196863551224e-10,\n 1,\n array([[3178.08619154, 2354.91380846],\n        [1979.91380846, 1467.08619154]]))"
     },
     "execution_count": 24,
     "metadata": {},
     "output_type": "execute_result"
    }
   ],
   "source": [
    "chi2_contingency(ct2)\n",
    "\n",
    "# тест хи-квадрат показывает, что с вероятностью 99% наличие имени в отзывах на мужчин-фрилансеров и на женщин-фрилансерок значимо различается"
   ],
   "metadata": {
    "collapsed": false,
    "pycharm": {
     "name": "#%%\n"
    }
   }
  },
  {
   "cell_type": "markdown",
   "source": [
    "проверить наличие отчества"
   ],
   "metadata": {
    "collapsed": false,
    "pycharm": {
     "name": "#%% md\n"
    }
   }
  },
  {
   "cell_type": "code",
   "execution_count": 83,
   "outputs": [
    {
     "data": {
      "text/plain": "female    34\nmale      20\nName: freelancer_gender, dtype: int64"
     },
     "execution_count": 83,
     "metadata": {},
     "output_type": "execute_result"
    }
   ],
   "source": [
    "with_reviews[with_reviews.texts.str.contains('вич ') | with_reviews.texts.str.contains('вна ')].drop_duplicates(subset='freelancer_name').freelancer_gender.value_counts()"
   ],
   "metadata": {
    "collapsed": false,
    "pycharm": {
     "name": "#%%\n"
    }
   }
  },
  {
   "cell_type": "code",
   "execution_count": 94,
   "outputs": [
    {
     "data": {
      "text/plain": "       marks                                              texts  \\\n515        6  Константин Васильевич очень доброжелательный и...   \n775        6  Александра Юрьевна - замечательный педагог! За...   \n808        6  Александра Юрьевна - замечательный педагог! За...   \n1078       6  Владимир Сергеевич настроил мне рекламу в соц ...   \n1079       5  Выражаю свою благодарность Владимиру Сергеевич...   \n...      ...                                                ...   \n10038      6  Необходимо было в короткие сроки освоить трасс...   \n10266      5  Очень хороший специалист. Ольга Владиславовна ...   \n10509      6  Евгения Александровна хороший специалист. Все ...   \n10510      6  Добрый день!С Евгенией Александровной Гафурово...   \n10743      6  К Николаю Харитонову - дизайнеру обратилась с ...   \n\n           author_names                                            profile  \\\n515            Катерина  https://profi.ru/it_freelance/designer/?seamle...   \n775               Елена  https://profi.ru/it_freelance/designer/?seamle...   \n808               Елена  https://profi.ru/it_freelance/designer/?seamle...   \n1078       Елена Попова  https://profi.ru/it_freelance/designer/?seamle...   \n1079   Андрей Кардаутов  https://profi.ru/it_freelance/designer/?seamle...   \n...                 ...                                                ...   \n10038            Эдуард  https://profi.ru/it_freelance/designer/?seamle...   \n10266             Ирина  https://profi.ru/it_freelance/designer/?seamle...   \n10509           Тимофей  https://profi.ru/it_freelance/designer/?seamle...   \n10510              Юлия  https://profi.ru/it_freelance/designer/?seamle...   \n10743           Эльвира  https://profi.ru/it_freelance/designer/?seamle...   \n\n                        freelancer_name freelancer_first_name  \\\n515         Константин Васильевич Тишин            Константин   \n775      Александра Юрьевна Мозжегорова            Александра   \n808      Александра Юрьевна Мозжегорова            Александра   \n1078        Владимир Сергеевич Савочкин              Владимир   \n1079        Владимир Сергеевич Савочкин              Владимир   \n...                                 ...                   ...   \n10038  Анастасия Алексеевна Высочанская             Анастасия   \n10266       Ольга Владиславовна Лихварь                 Ольга   \n10509    Евгения Александровна Гафурова               Евгения   \n10510    Евгения Александровна Гафурова               Евгения   \n10743      Николай Викторович Харитонов               Николай   \n\n      freelancer_gender  texts_existence  \\\n515                male             True   \n775              female             True   \n808              female             True   \n1078               male             True   \n1079               male             True   \n...                 ...              ...   \n10038            female             True   \n10266            female             True   \n10509            female             True   \n10510            female             True   \n10743              male             True   \n\n                                      texts_preprocessed  name_in_review  \\\n515    [васильевич, очень, доброжелательный, понимающ...            True   \n775    [юрьевна, замечательный, педагог, занятие, нас...            True   \n808    [юрьевна, замечательный, педагог, занятие, нас...            True   \n1078   [сергеевич, настраивать, реклама, соц, сеть, р...            True   \n1079   [выражать, свой, благодарность, сергеевич, сде...            True   \n...                                                  ...             ...   \n10038  [необходимо, короткий, срок, осваивать, трасси...            True   \n10266  [очень, хороший, специалист, владиславовна, бы...            True   \n10509  [александровна, хороший, специалист, очень, по...            True   \n10510  [добрый, день, александровна, гафурова, занима...            True   \n10743  [харитонов, дизайнер, обращаться, вопрос, созд...            True   \n\n       gender_in_text                                       texts_joined  \\\n515             False  васильевич очень доброжелательный понимающий п...   \n775             False  юрьевна замечательный педагог занятие настольк...   \n808             False  юрьевна замечательный педагог занятие настольк...   \n1078            False  сергеевич настраивать реклама соц сеть работа ...   \n1079            False  выражать свой благодарность сергеевич сделать ...   \n...               ...                                                ...   \n10038           False  необходимо короткий срок осваивать трассировка...   \n10266           False  очень хороший специалист владиславовна быстро ...   \n10509           False  александровна хороший специалист очень понрави...   \n10510           False  добрый день александровна гафурова заниматься ...   \n10743           False  харитонов дизайнер обращаться вопрос создание ...   \n\n       sentiment  \n515            1  \n775            1  \n808            1  \n1078           1  \n1079           1  \n...          ...  \n10038          1  \n10266          1  \n10509          1  \n10510          1  \n10743          1  \n\n[104 rows x 13 columns]",
      "text/html": "<div>\n<style scoped>\n    .dataframe tbody tr th:only-of-type {\n        vertical-align: middle;\n    }\n\n    .dataframe tbody tr th {\n        vertical-align: top;\n    }\n\n    .dataframe thead th {\n        text-align: right;\n    }\n</style>\n<table border=\"1\" class=\"dataframe\">\n  <thead>\n    <tr style=\"text-align: right;\">\n      <th></th>\n      <th>marks</th>\n      <th>texts</th>\n      <th>author_names</th>\n      <th>profile</th>\n      <th>freelancer_name</th>\n      <th>freelancer_first_name</th>\n      <th>freelancer_gender</th>\n      <th>texts_existence</th>\n      <th>texts_preprocessed</th>\n      <th>name_in_review</th>\n      <th>gender_in_text</th>\n      <th>texts_joined</th>\n      <th>sentiment</th>\n    </tr>\n  </thead>\n  <tbody>\n    <tr>\n      <th>515</th>\n      <td>6</td>\n      <td>Константин Васильевич очень доброжелательный и...</td>\n      <td>Катерина</td>\n      <td>https://profi.ru/it_freelance/designer/?seamle...</td>\n      <td>Константин Васильевич Тишин</td>\n      <td>Константин</td>\n      <td>male</td>\n      <td>True</td>\n      <td>[васильевич, очень, доброжелательный, понимающ...</td>\n      <td>True</td>\n      <td>False</td>\n      <td>васильевич очень доброжелательный понимающий п...</td>\n      <td>1</td>\n    </tr>\n    <tr>\n      <th>775</th>\n      <td>6</td>\n      <td>Александра Юрьевна - замечательный педагог! За...</td>\n      <td>Елена</td>\n      <td>https://profi.ru/it_freelance/designer/?seamle...</td>\n      <td>Александра Юрьевна Мозжегорова</td>\n      <td>Александра</td>\n      <td>female</td>\n      <td>True</td>\n      <td>[юрьевна, замечательный, педагог, занятие, нас...</td>\n      <td>True</td>\n      <td>False</td>\n      <td>юрьевна замечательный педагог занятие настольк...</td>\n      <td>1</td>\n    </tr>\n    <tr>\n      <th>808</th>\n      <td>6</td>\n      <td>Александра Юрьевна - замечательный педагог! За...</td>\n      <td>Елена</td>\n      <td>https://profi.ru/it_freelance/designer/?seamle...</td>\n      <td>Александра Юрьевна Мозжегорова</td>\n      <td>Александра</td>\n      <td>female</td>\n      <td>True</td>\n      <td>[юрьевна, замечательный, педагог, занятие, нас...</td>\n      <td>True</td>\n      <td>False</td>\n      <td>юрьевна замечательный педагог занятие настольк...</td>\n      <td>1</td>\n    </tr>\n    <tr>\n      <th>1078</th>\n      <td>6</td>\n      <td>Владимир Сергеевич настроил мне рекламу в соц ...</td>\n      <td>Елена Попова</td>\n      <td>https://profi.ru/it_freelance/designer/?seamle...</td>\n      <td>Владимир Сергеевич Савочкин</td>\n      <td>Владимир</td>\n      <td>male</td>\n      <td>True</td>\n      <td>[сергеевич, настраивать, реклама, соц, сеть, р...</td>\n      <td>True</td>\n      <td>False</td>\n      <td>сергеевич настраивать реклама соц сеть работа ...</td>\n      <td>1</td>\n    </tr>\n    <tr>\n      <th>1079</th>\n      <td>5</td>\n      <td>Выражаю свою благодарность Владимиру Сергеевич...</td>\n      <td>Андрей Кардаутов</td>\n      <td>https://profi.ru/it_freelance/designer/?seamle...</td>\n      <td>Владимир Сергеевич Савочкин</td>\n      <td>Владимир</td>\n      <td>male</td>\n      <td>True</td>\n      <td>[выражать, свой, благодарность, сергеевич, сде...</td>\n      <td>True</td>\n      <td>False</td>\n      <td>выражать свой благодарность сергеевич сделать ...</td>\n      <td>1</td>\n    </tr>\n    <tr>\n      <th>...</th>\n      <td>...</td>\n      <td>...</td>\n      <td>...</td>\n      <td>...</td>\n      <td>...</td>\n      <td>...</td>\n      <td>...</td>\n      <td>...</td>\n      <td>...</td>\n      <td>...</td>\n      <td>...</td>\n      <td>...</td>\n      <td>...</td>\n    </tr>\n    <tr>\n      <th>10038</th>\n      <td>6</td>\n      <td>Необходимо было в короткие сроки освоить трасс...</td>\n      <td>Эдуард</td>\n      <td>https://profi.ru/it_freelance/designer/?seamle...</td>\n      <td>Анастасия Алексеевна Высочанская</td>\n      <td>Анастасия</td>\n      <td>female</td>\n      <td>True</td>\n      <td>[необходимо, короткий, срок, осваивать, трасси...</td>\n      <td>True</td>\n      <td>False</td>\n      <td>необходимо короткий срок осваивать трассировка...</td>\n      <td>1</td>\n    </tr>\n    <tr>\n      <th>10266</th>\n      <td>5</td>\n      <td>Очень хороший специалист. Ольга Владиславовна ...</td>\n      <td>Ирина</td>\n      <td>https://profi.ru/it_freelance/designer/?seamle...</td>\n      <td>Ольга Владиславовна Лихварь</td>\n      <td>Ольга</td>\n      <td>female</td>\n      <td>True</td>\n      <td>[очень, хороший, специалист, владиславовна, бы...</td>\n      <td>True</td>\n      <td>False</td>\n      <td>очень хороший специалист владиславовна быстро ...</td>\n      <td>1</td>\n    </tr>\n    <tr>\n      <th>10509</th>\n      <td>6</td>\n      <td>Евгения Александровна хороший специалист. Все ...</td>\n      <td>Тимофей</td>\n      <td>https://profi.ru/it_freelance/designer/?seamle...</td>\n      <td>Евгения Александровна Гафурова</td>\n      <td>Евгения</td>\n      <td>female</td>\n      <td>True</td>\n      <td>[александровна, хороший, специалист, очень, по...</td>\n      <td>True</td>\n      <td>False</td>\n      <td>александровна хороший специалист очень понрави...</td>\n      <td>1</td>\n    </tr>\n    <tr>\n      <th>10510</th>\n      <td>6</td>\n      <td>Добрый день!С Евгенией Александровной Гафурово...</td>\n      <td>Юлия</td>\n      <td>https://profi.ru/it_freelance/designer/?seamle...</td>\n      <td>Евгения Александровна Гафурова</td>\n      <td>Евгения</td>\n      <td>female</td>\n      <td>True</td>\n      <td>[добрый, день, александровна, гафурова, занима...</td>\n      <td>True</td>\n      <td>False</td>\n      <td>добрый день александровна гафурова заниматься ...</td>\n      <td>1</td>\n    </tr>\n    <tr>\n      <th>10743</th>\n      <td>6</td>\n      <td>К Николаю Харитонову - дизайнеру обратилась с ...</td>\n      <td>Эльвира</td>\n      <td>https://profi.ru/it_freelance/designer/?seamle...</td>\n      <td>Николай Викторович Харитонов</td>\n      <td>Николай</td>\n      <td>male</td>\n      <td>True</td>\n      <td>[харитонов, дизайнер, обращаться, вопрос, созд...</td>\n      <td>True</td>\n      <td>False</td>\n      <td>харитонов дизайнер обращаться вопрос создание ...</td>\n      <td>1</td>\n    </tr>\n  </tbody>\n</table>\n<p>104 rows × 13 columns</p>\n</div>"
     },
     "execution_count": 94,
     "metadata": {},
     "output_type": "execute_result"
    }
   ],
   "source": [
    "with_reviews[with_reviews.texts.str.contains('вич ') | with_reviews.texts.str.contains('евна ') | with_reviews.texts.str.contains('евной') | with_reviews.texts.str.contains('овна ') | with_reviews.texts.str.contains('овной ')]"
   ],
   "metadata": {
    "collapsed": false,
    "pycharm": {
     "name": "#%%\n"
    }
   }
  },
  {
   "cell_type": "code",
   "execution_count": 85,
   "outputs": [
    {
     "data": {
      "text/plain": "female    871\nmale      472\nName: freelancer_gender, dtype: int64"
     },
     "execution_count": 85,
     "metadata": {},
     "output_type": "execute_result"
    }
   ],
   "source": [
    "with_reviews.drop_duplicates(subset='freelancer_name').freelancer_gender.value_counts()"
   ],
   "metadata": {
    "collapsed": false,
    "pycharm": {
     "name": "#%%\n"
    }
   }
  },
  {
   "cell_type": "code",
   "execution_count": 25,
   "outputs": [
    {
     "data": {
      "text/plain": "name_in_review  False  True\nmarks                      \n1                 151    47\n2                  66    26\n3                  33    11\n4                  88    20\n5                1690  1047\nПять с плюсом    3130  2671",
      "text/html": "<div>\n<style scoped>\n    .dataframe tbody tr th:only-of-type {\n        vertical-align: middle;\n    }\n\n    .dataframe tbody tr th {\n        vertical-align: top;\n    }\n\n    .dataframe thead th {\n        text-align: right;\n    }\n</style>\n<table border=\"1\" class=\"dataframe\">\n  <thead>\n    <tr style=\"text-align: right;\">\n      <th>name_in_review</th>\n      <th>False</th>\n      <th>True</th>\n    </tr>\n    <tr>\n      <th>marks</th>\n      <th></th>\n      <th></th>\n    </tr>\n  </thead>\n  <tbody>\n    <tr>\n      <th>1</th>\n      <td>151</td>\n      <td>47</td>\n    </tr>\n    <tr>\n      <th>2</th>\n      <td>66</td>\n      <td>26</td>\n    </tr>\n    <tr>\n      <th>3</th>\n      <td>33</td>\n      <td>11</td>\n    </tr>\n    <tr>\n      <th>4</th>\n      <td>88</td>\n      <td>20</td>\n    </tr>\n    <tr>\n      <th>5</th>\n      <td>1690</td>\n      <td>1047</td>\n    </tr>\n    <tr>\n      <th>Пять с плюсом</th>\n      <td>3130</td>\n      <td>2671</td>\n    </tr>\n  </tbody>\n</table>\n</div>"
     },
     "execution_count": 25,
     "metadata": {},
     "output_type": "execute_result"
    }
   ],
   "source": [
    "ct3 = pd.crosstab(with_reviews['marks'], with_reviews['name_in_review'])\n",
    "ct3"
   ],
   "metadata": {
    "collapsed": false,
    "pycharm": {
     "name": "#%%\n"
    }
   }
  },
  {
   "cell_type": "code",
   "execution_count": 26,
   "outputs": [
    {
     "data": {
      "text/plain": "(117.0366358159197,\n 1.3310762579059365e-23,\n 5,\n array([[ 113.72873051,   84.27126949],\n        [  52.84365256,   39.15634744],\n        [  25.27305122,   18.72694878],\n        [  62.03385301,   45.96614699],\n        [1572.0986637 , 1164.9013363 ],\n        [3332.022049  , 2468.977951  ]]))"
     },
     "execution_count": 26,
     "metadata": {},
     "output_type": "execute_result"
    }
   ],
   "source": [
    "chi2_contingency(ct3)\n",
    "\n",
    "# имена в отзывах чаще встречаются в положительных отзывах"
   ],
   "metadata": {
    "collapsed": false,
    "pycharm": {
     "name": "#%%\n"
    }
   }
  },
  {
   "cell_type": "code",
   "execution_count": 27,
   "outputs": [],
   "source": [
    "# посмотрим на наличие слов, указывающих на гендер фрилансера в отзывах\n",
    "gendered_words = ['девушка', 'женщина', 'мужчина', 'человек']"
   ],
   "metadata": {
    "collapsed": false,
    "pycharm": {
     "name": "#%%\n"
    }
   }
  },
  {
   "cell_type": "code",
   "execution_count": 28,
   "outputs": [],
   "source": [
    "with_reviews['gender_in_text'] = with_reviews.texts_preprocessed.apply(lambda tokens: len(set(tokens) & set(gendered_words)) != 0)"
   ],
   "metadata": {
    "collapsed": false,
    "pycharm": {
     "name": "#%%\n"
    }
   }
  },
  {
   "cell_type": "code",
   "execution_count": 29,
   "outputs": [
    {
     "data": {
      "text/plain": "gender_in_text     False  True\nfreelancer_gender             \nfemale              5124   409\nmale                3247   200",
      "text/html": "<div>\n<style scoped>\n    .dataframe tbody tr th:only-of-type {\n        vertical-align: middle;\n    }\n\n    .dataframe tbody tr th {\n        vertical-align: top;\n    }\n\n    .dataframe thead th {\n        text-align: right;\n    }\n</style>\n<table border=\"1\" class=\"dataframe\">\n  <thead>\n    <tr style=\"text-align: right;\">\n      <th>gender_in_text</th>\n      <th>False</th>\n      <th>True</th>\n    </tr>\n    <tr>\n      <th>freelancer_gender</th>\n      <th></th>\n      <th></th>\n    </tr>\n  </thead>\n  <tbody>\n    <tr>\n      <th>female</th>\n      <td>5124</td>\n      <td>409</td>\n    </tr>\n    <tr>\n      <th>male</th>\n      <td>3247</td>\n      <td>200</td>\n    </tr>\n  </tbody>\n</table>\n</div>"
     },
     "execution_count": 29,
     "metadata": {},
     "output_type": "execute_result"
    }
   ],
   "source": [
    "ct4 = pd.crosstab(with_reviews['freelancer_gender'], with_reviews['gender_in_text'])\n",
    "ct4"
   ],
   "metadata": {
    "collapsed": false,
    "pycharm": {
     "name": "#%%\n"
    }
   }
  },
  {
   "cell_type": "code",
   "execution_count": 30,
   "outputs": [
    {
     "data": {
      "text/plain": "(8.24225694242785,\n 0.004092621120725573,\n 1,\n array([[5157.76648107,  375.23351893],\n        [3213.23351893,  233.76648107]]))"
     },
     "execution_count": 30,
     "metadata": {},
     "output_type": "execute_result"
    }
   ],
   "source": [
    "chi2_contingency(ct4)\n",
    "\n",
    "# с вероятностью 99% встречаемость слов, указывающих на гендер фрилансеров в текстах отзывов, различается"
   ],
   "metadata": {
    "collapsed": false,
    "pycharm": {
     "name": "#%%\n"
    }
   }
  },
  {
   "cell_type": "code",
   "execution_count": 31,
   "outputs": [],
   "source": [
    "# удалим имена из текстов отзывов\n",
    "\n",
    "def del_name(tokens):\n",
    "    return [token for token in tokens if token not in set_of_names]"
   ],
   "metadata": {
    "collapsed": false,
    "pycharm": {
     "name": "#%%\n"
    }
   }
  },
  {
   "cell_type": "code",
   "execution_count": 32,
   "outputs": [],
   "source": [
    "with_reviews['texts_preprocessed'] = with_reviews['texts_preprocessed'].apply(del_name)"
   ],
   "metadata": {
    "collapsed": false,
    "pycharm": {
     "name": "#%%\n"
    }
   }
  },
  {
   "cell_type": "code",
   "execution_count": 34,
   "outputs": [],
   "source": [
    "with_reviews.loc[with_reviews.marks == 'Пять с плюсом', 'marks'] = 6"
   ],
   "metadata": {
    "collapsed": false,
    "pycharm": {
     "name": "#%%\n"
    }
   }
  },
  {
   "cell_type": "code",
   "execution_count": 35,
   "outputs": [],
   "source": [
    "with_reviews['marks'] = with_reviews.marks.astype(int)"
   ],
   "metadata": {
    "collapsed": false,
    "pycharm": {
     "name": "#%%\n"
    }
   }
  },
  {
   "cell_type": "code",
   "execution_count": 71,
   "outputs": [
    {
     "data": {
      "text/plain": "freelancer_gender\nfemale    5.514007\nmale      5.491152\nName: marks, dtype: float64"
     },
     "execution_count": 71,
     "metadata": {},
     "output_type": "execute_result"
    }
   ],
   "source": [
    "with_reviews.groupby('freelancer_gender')['marks'].mean()"
   ],
   "metadata": {
    "collapsed": false,
    "pycharm": {
     "name": "#%%\n"
    }
   }
  },
  {
   "cell_type": "markdown",
   "source": [
    "Распределения оценок не различаются"
   ],
   "metadata": {
    "collapsed": false,
    "pycharm": {
     "name": "#%% md\n"
    }
   }
  },
  {
   "cell_type": "code",
   "execution_count": 36,
   "outputs": [],
   "source": [
    "with_reviews['texts_joined'] = with_reviews.texts_preprocessed.apply(lambda tokens: \" \".join(tokens))"
   ],
   "metadata": {
    "collapsed": false,
    "pycharm": {
     "name": "#%%\n"
    }
   }
  },
  {
   "cell_type": "code",
   "execution_count": 37,
   "outputs": [],
   "source": [
    "women = with_reviews[with_reviews.freelancer_gender == 'female'][['texts_joined', 'marks']]\n",
    "men = with_reviews[with_reviews.freelancer_gender == 'male'][['texts_joined', 'marks']]"
   ],
   "metadata": {
    "collapsed": false,
    "pycharm": {
     "name": "#%%\n"
    }
   }
  },
  {
   "cell_type": "code",
   "execution_count": 38,
   "outputs": [],
   "source": [
    "x_train_m, x_test_m, y_train_m, y_test_m = train_test_split(men.texts_joined, men.marks, random_state=42)\n",
    "x_train_f, x_test_f, y_train_f, y_test_f = train_test_split(women.texts_joined, women.marks, random_state=42)"
   ],
   "metadata": {
    "collapsed": false,
    "pycharm": {
     "name": "#%%\n"
    }
   }
  },
  {
   "cell_type": "code",
   "execution_count": 39,
   "outputs": [],
   "source": [
    "vec_m = TfidfVectorizer(ngram_range=(1, 3))\n",
    "vec_train_m = vec_m.fit_transform(x_train_m)\n",
    "vec_test_m = vec_m.transform(x_test_m)\n",
    "\n",
    "\n",
    "scaler_m = MaxAbsScaler()\n",
    "vec_train_m = scaler_m.fit_transform(vec_train_m)\n",
    "vec_test_m = scaler_m.transform(vec_test_m)"
   ],
   "metadata": {
    "collapsed": false,
    "pycharm": {
     "name": "#%%\n"
    }
   }
  },
  {
   "cell_type": "code",
   "execution_count": 40,
   "outputs": [],
   "source": [
    "linear_m = LinearRegression()\n",
    "linear_m.fit(vec_train_m, y_train_m)\n",
    "preds_m = linear_m.predict(vec_test_m)"
   ],
   "metadata": {
    "collapsed": false,
    "pycharm": {
     "name": "#%%\n"
    }
   }
  },
  {
   "cell_type": "code",
   "execution_count": 41,
   "outputs": [
    {
     "data": {
      "text/plain": "0.3667394686425137"
     },
     "execution_count": 41,
     "metadata": {},
     "output_type": "execute_result"
    }
   ],
   "source": [
    "mean_squared_error(preds_m, y_test_m)"
   ],
   "metadata": {
    "collapsed": false,
    "pycharm": {
     "name": "#%%\n"
    }
   }
  },
  {
   "cell_type": "code",
   "execution_count": 42,
   "outputs": [
    {
     "data": {
      "text/plain": "Explanation(estimator='LinearRegression()', description=\"\\nFeatures with largest coefficients.\\nCaveats:\\n1. Be careful with features which are not\\n   independent - weights don't show their importance.\\n2. If scale of input features is different then scale of coefficients\\n   will also be different, making direct comparison between coefficient values\\n   incorrect.\\n3. Depending on regularization, rare features sometimes may have high\\n   coefficients; this doesn't mean they contribute much to the\\n   classification result for most examples.\\n\", error=None, method='linear model', is_regression=True, targets=[TargetExplanation(target='y', feature_weights=FeatureWeights(pos=[FeatureWeight(feature='<BIAS>', weight=5.211428833490206, std=None, value=None), FeatureWeight(feature='хороший рекомендовать', weight=1.202299445195538, std=None, value=None), FeatureWeight(feature='спасибо рекомендовать', weight=1.04953809837673, std=None, value=None), FeatureWeight(feature='быстро качественно выполнять', weight=0.9826203631114058, std=None, value=None), FeatureWeight(feature='отлично рекомендовать', weight=0.9372800754096071, std=None, value=None)], neg=[FeatureWeight(feature='пропадать', weight=-1.9299199860408478, std=None, value=None), FeatureWeight(feature='никак', weight=-1.8610131368445082, std=None, value=None), FeatureWeight(feature='безответственный', weight=-1.5907104302592272, std=None, value=None), FeatureWeight(feature='безответственный человек', weight=-1.560092030129058, std=None, value=None), FeatureWeight(feature='ничто', weight=-1.3760602186388347, std=None, value=None), FeatureWeight(feature='недобросовестный специалист', weight=-1.3737325567317764, std=None, value=None), FeatureWeight(feature='недобросовестный', weight=-1.3737325567317764, std=None, value=None), FeatureWeight(feature='недобросовестный специалист рекомендовать', weight=-1.3737325567317764, std=None, value=None), FeatureWeight(feature='никак сделать', weight=-1.302575217396673, std=None, value=None), FeatureWeight(feature='консультация', weight=-1.2114291190992899, std=None, value=None), FeatureWeight(feature='рекомендовать', weight=-1.211427547160628, std=None, value=None), FeatureWeight(feature='человек', weight=-1.0606261694620227, std=None, value=None), FeatureWeight(feature='предоплата', weight=-0.9566769216279711, std=None, value=None), FeatureWeight(feature='относиться работа', weight=-0.8307066240826708, std=None, value=None), FeatureWeight(feature='четко срок', weight=-0.827205948947997, std=None, value=None)], pos_remaining=29481, neg_remaining=17563), proba=None, score=None, weighted_spans=None, heatmap=None)], feature_importances=None, decision_tree=None, highlight_spaces=None, transition_features=None, image=None)",
      "text/html": "\n    <style>\n    table.eli5-weights tr:hover {\n        filter: brightness(85%);\n    }\n</style>\n\n\n\n    \n\n    \n\n    \n\n    \n\n    \n\n    \n\n\n    \n\n    \n\n    \n\n    \n        \n\n    \n\n        \n            \n                \n                \n    \n        <p style=\"margin-bottom: 0.5em; margin-top: 0em\">\n            <b>\n    \n        y\n    \n</b>\n\ntop features\n        </p>\n    \n    <table class=\"eli5-weights\"\n           style=\"border-collapse: collapse; border: none; margin-top: 0em; table-layout: auto; margin-bottom: 2em;\">\n        <thead>\n        <tr style=\"border: none;\">\n            \n                <th style=\"padding: 0 1em 0 0.5em; text-align: right; border: none;\" title=\"Feature weights. Note that weights do not account for feature value scales, so if feature values have different scales, features with highest weights might not be the most important.\">\n                    Weight<sup>?</sup>\n                </th>\n            \n            <th style=\"padding: 0 0.5em 0 0.5em; text-align: left; border: none;\">Feature</th>\n            \n        </tr>\n        </thead>\n        <tbody>\n        \n            <tr style=\"background-color: hsl(120, 100.00%, 80.00%); border: none;\">\n    <td style=\"padding: 0 1em 0 0.5em; text-align: right; border: none;\">\n        +5.211\n    </td>\n    <td style=\"padding: 0 0.5em 0 0.5em; text-align: left; border: none;\">\n        &lt;BIAS&gt;\n    </td>\n    \n</tr>\n        \n            <tr style=\"background-color: hsl(120, 100.00%, 92.84%); border: none;\">\n    <td style=\"padding: 0 1em 0 0.5em; text-align: right; border: none;\">\n        +1.202\n    </td>\n    <td style=\"padding: 0 0.5em 0 0.5em; text-align: left; border: none;\">\n        хороший рекомендовать\n    </td>\n    \n</tr>\n        \n            <tr style=\"background-color: hsl(120, 100.00%, 93.49%); border: none;\">\n    <td style=\"padding: 0 1em 0 0.5em; text-align: right; border: none;\">\n        +1.050\n    </td>\n    <td style=\"padding: 0 0.5em 0 0.5em; text-align: left; border: none;\">\n        спасибо рекомендовать\n    </td>\n    \n</tr>\n        \n            <tr style=\"background-color: hsl(120, 100.00%, 93.78%); border: none;\">\n    <td style=\"padding: 0 1em 0 0.5em; text-align: right; border: none;\">\n        +0.983\n    </td>\n    <td style=\"padding: 0 0.5em 0 0.5em; text-align: left; border: none;\">\n        быстро качественно выполнять\n    </td>\n    \n</tr>\n        \n            <tr style=\"background-color: hsl(120, 100.00%, 93.98%); border: none;\">\n    <td style=\"padding: 0 1em 0 0.5em; text-align: right; border: none;\">\n        +0.937\n    </td>\n    <td style=\"padding: 0 0.5em 0 0.5em; text-align: left; border: none;\">\n        отлично рекомендовать\n    </td>\n    \n</tr>\n        \n        \n            <tr style=\"background-color: hsl(120, 100.00%, 93.98%); border: none;\">\n                <td colspan=\"2\" style=\"padding: 0 0.5em 0 0.5em; text-align: center; border: none; white-space: nowrap;\">\n                    <i>&hellip; 29481 more positive &hellip;</i>\n                </td>\n            </tr>\n        \n\n        \n            <tr style=\"background-color: hsl(0, 100.00%, 94.49%); border: none;\">\n                <td colspan=\"2\" style=\"padding: 0 0.5em 0 0.5em; text-align: center; border: none; white-space: nowrap;\">\n                    <i>&hellip; 17563 more negative &hellip;</i>\n                </td>\n            </tr>\n        \n        \n            <tr style=\"background-color: hsl(0, 100.00%, 94.49%); border: none;\">\n    <td style=\"padding: 0 1em 0 0.5em; text-align: right; border: none;\">\n        -0.827\n    </td>\n    <td style=\"padding: 0 0.5em 0 0.5em; text-align: left; border: none;\">\n        четко срок\n    </td>\n    \n</tr>\n        \n            <tr style=\"background-color: hsl(0, 100.00%, 94.47%); border: none;\">\n    <td style=\"padding: 0 1em 0 0.5em; text-align: right; border: none;\">\n        -0.831\n    </td>\n    <td style=\"padding: 0 0.5em 0 0.5em; text-align: left; border: none;\">\n        относиться работа\n    </td>\n    \n</tr>\n        \n            <tr style=\"background-color: hsl(0, 100.00%, 93.89%); border: none;\">\n    <td style=\"padding: 0 1em 0 0.5em; text-align: right; border: none;\">\n        -0.957\n    </td>\n    <td style=\"padding: 0 0.5em 0 0.5em; text-align: left; border: none;\">\n        предоплата\n    </td>\n    \n</tr>\n        \n            <tr style=\"background-color: hsl(0, 100.00%, 93.44%); border: none;\">\n    <td style=\"padding: 0 1em 0 0.5em; text-align: right; border: none;\">\n        -1.061\n    </td>\n    <td style=\"padding: 0 0.5em 0 0.5em; text-align: left; border: none;\">\n        человек\n    </td>\n    \n</tr>\n        \n            <tr style=\"background-color: hsl(0, 100.00%, 92.80%); border: none;\">\n    <td style=\"padding: 0 1em 0 0.5em; text-align: right; border: none;\">\n        -1.211\n    </td>\n    <td style=\"padding: 0 0.5em 0 0.5em; text-align: left; border: none;\">\n        рекомендовать\n    </td>\n    \n</tr>\n        \n            <tr style=\"background-color: hsl(0, 100.00%, 92.80%); border: none;\">\n    <td style=\"padding: 0 1em 0 0.5em; text-align: right; border: none;\">\n        -1.211\n    </td>\n    <td style=\"padding: 0 0.5em 0 0.5em; text-align: left; border: none;\">\n        консультация\n    </td>\n    \n</tr>\n        \n            <tr style=\"background-color: hsl(0, 100.00%, 92.42%); border: none;\">\n    <td style=\"padding: 0 1em 0 0.5em; text-align: right; border: none;\">\n        -1.303\n    </td>\n    <td style=\"padding: 0 0.5em 0 0.5em; text-align: left; border: none;\">\n        никак сделать\n    </td>\n    \n</tr>\n        \n            <tr style=\"background-color: hsl(0, 100.00%, 92.14%); border: none;\">\n    <td style=\"padding: 0 1em 0 0.5em; text-align: right; border: none;\">\n        -1.374\n    </td>\n    <td style=\"padding: 0 0.5em 0 0.5em; text-align: left; border: none;\">\n        недобросовестный специалист рекомендовать\n    </td>\n    \n</tr>\n        \n            <tr style=\"background-color: hsl(0, 100.00%, 92.14%); border: none;\">\n    <td style=\"padding: 0 1em 0 0.5em; text-align: right; border: none;\">\n        -1.374\n    </td>\n    <td style=\"padding: 0 0.5em 0 0.5em; text-align: left; border: none;\">\n        недобросовестный\n    </td>\n    \n</tr>\n        \n            <tr style=\"background-color: hsl(0, 100.00%, 92.14%); border: none;\">\n    <td style=\"padding: 0 1em 0 0.5em; text-align: right; border: none;\">\n        -1.374\n    </td>\n    <td style=\"padding: 0 0.5em 0 0.5em; text-align: left; border: none;\">\n        недобросовестный специалист\n    </td>\n    \n</tr>\n        \n            <tr style=\"background-color: hsl(0, 100.00%, 92.13%); border: none;\">\n    <td style=\"padding: 0 1em 0 0.5em; text-align: right; border: none;\">\n        -1.376\n    </td>\n    <td style=\"padding: 0 0.5em 0 0.5em; text-align: left; border: none;\">\n        ничто\n    </td>\n    \n</tr>\n        \n            <tr style=\"background-color: hsl(0, 100.00%, 91.40%); border: none;\">\n    <td style=\"padding: 0 1em 0 0.5em; text-align: right; border: none;\">\n        -1.560\n    </td>\n    <td style=\"padding: 0 0.5em 0 0.5em; text-align: left; border: none;\">\n        безответственный человек\n    </td>\n    \n</tr>\n        \n            <tr style=\"background-color: hsl(0, 100.00%, 91.28%); border: none;\">\n    <td style=\"padding: 0 1em 0 0.5em; text-align: right; border: none;\">\n        -1.591\n    </td>\n    <td style=\"padding: 0 0.5em 0 0.5em; text-align: left; border: none;\">\n        безответственный\n    </td>\n    \n</tr>\n        \n            <tr style=\"background-color: hsl(0, 100.00%, 90.27%); border: none;\">\n    <td style=\"padding: 0 1em 0 0.5em; text-align: right; border: none;\">\n        -1.861\n    </td>\n    <td style=\"padding: 0 0.5em 0 0.5em; text-align: left; border: none;\">\n        никак\n    </td>\n    \n</tr>\n        \n            <tr style=\"background-color: hsl(0, 100.00%, 90.02%); border: none;\">\n    <td style=\"padding: 0 1em 0 0.5em; text-align: right; border: none;\">\n        -1.930\n    </td>\n    <td style=\"padding: 0 0.5em 0 0.5em; text-align: left; border: none;\">\n        пропадать\n    </td>\n    \n</tr>\n        \n\n        </tbody>\n    </table>\n\n            \n        \n\n        \n\n\n\n    \n\n    \n\n    \n\n    \n\n\n    \n\n    \n\n    \n\n    \n\n    \n\n    \n\n\n    \n\n    \n\n    \n\n    \n\n    \n\n    \n\n\n\n"
     },
     "execution_count": 42,
     "metadata": {},
     "output_type": "execute_result"
    }
   ],
   "source": [
    "eli5.sklearn.explain_weights_sklearn(linear_m, vec=vec_m)"
   ],
   "metadata": {
    "collapsed": false,
    "pycharm": {
     "name": "#%%\n"
    }
   }
  },
  {
   "cell_type": "code",
   "execution_count": 44,
   "outputs": [],
   "source": [
    "vec_f = TfidfVectorizer(ngram_range=(1, 3))\n",
    "vec_train_f = vec_f.fit_transform(x_train_f)\n",
    "vec_test_f = vec_f.transform(x_test_f)\n",
    "\n",
    "\n",
    "scaler_f = MaxAbsScaler()\n",
    "vec_train_f = scaler_f.fit_transform(vec_train_f)\n",
    "vec_test_f = scaler_f.transform(vec_test_f)"
   ],
   "metadata": {
    "collapsed": false,
    "pycharm": {
     "name": "#%%\n"
    }
   }
  },
  {
   "cell_type": "code",
   "execution_count": 45,
   "outputs": [],
   "source": [
    "linear_f = LinearRegression()\n",
    "linear_f.fit(vec_train_f, y_train_f)\n",
    "preds_f = linear_f.predict(vec_test_f)"
   ],
   "metadata": {
    "collapsed": false,
    "pycharm": {
     "name": "#%%\n"
    }
   }
  },
  {
   "cell_type": "code",
   "execution_count": 46,
   "outputs": [
    {
     "data": {
      "text/plain": "0.6104155488984659"
     },
     "execution_count": 46,
     "metadata": {},
     "output_type": "execute_result"
    }
   ],
   "source": [
    "mean_squared_error(preds_f, y_test_f)"
   ],
   "metadata": {
    "collapsed": false,
    "pycharm": {
     "name": "#%%\n"
    }
   }
  },
  {
   "cell_type": "code",
   "execution_count": 47,
   "outputs": [
    {
     "data": {
      "text/plain": "Explanation(estimator='LinearRegression()', description=\"\\nFeatures with largest coefficients.\\nCaveats:\\n1. Be careful with features which are not\\n   independent - weights don't show their importance.\\n2. If scale of input features is different then scale of coefficients\\n   will also be different, making direct comparison between coefficient values\\n   incorrect.\\n3. Depending on regularization, rare features sometimes may have high\\n   coefficients; this doesn't mean they contribute much to the\\n   classification result for most examples.\\n\", error=None, method='linear model', is_regression=True, targets=[TargetExplanation(target='y', feature_weights=FeatureWeights(pos=[FeatureWeight(feature='<BIAS>', weight=4.824011185902603, std=None, value=None), FeatureWeight(feature='молодец', weight=1.1759892832352974, std=None, value=None), FeatureWeight(feature='шикарно', weight=1.1759891530867288, std=None, value=None), FeatureWeight(feature='волшебница', weight=1.1759891474989652, std=None, value=None), FeatureWeight(feature='бал', weight=1.1759891455731388, std=None, value=None), FeatureWeight(feature='четко', weight=1.1759890696761741, std=None, value=None), FeatureWeight(feature='талант', weight=1.1759888856062497, std=None, value=None), FeatureWeight(feature='проходить', weight=1.1759888736803141, std=None, value=None), FeatureWeight(feature='очень', weight=1.175988869627603, std=None, value=None)], neg=[FeatureWeight(feature='лохотрон', weight=-3.824011357589294, std=None, value=None), FeatureWeight(feature='пунктуальность', weight=-2.8240114474609594, std=None, value=None), FeatureWeight(feature='оценка', weight=-2.8240113241428997, std=None, value=None), FeatureWeight(feature='аккуратно', weight=-2.8240111153817997, std=None, value=None), FeatureWeight(feature='денисовна супер', weight=-2.068208764790725, std=None, value=None), FeatureWeight(feature='денисовна', weight=-2.056343041563108, std=None, value=None), FeatureWeight(feature='профессиональный подход', weight=-1.5163557823332316, std=None, value=None), FeatureWeight(feature='некомпетентный', weight=-1.472310444310844, std=None, value=None), FeatureWeight(feature='некомпетентный специалист', weight=-1.4675478734528429, std=None, value=None), FeatureWeight(feature='профессиональный', weight=-1.3492108981748967, std=None, value=None), FeatureWeight(feature='логотип понравиться', weight=-1.3356315636846954, std=None, value=None)], pos_remaining=47661, neg_remaining=28983), proba=None, score=None, weighted_spans=None, heatmap=None)], feature_importances=None, decision_tree=None, highlight_spaces=None, transition_features=None, image=None)",
      "text/html": "\n    <style>\n    table.eli5-weights tr:hover {\n        filter: brightness(85%);\n    }\n</style>\n\n\n\n    \n\n    \n\n    \n\n    \n\n    \n\n    \n\n\n    \n\n    \n\n    \n\n    \n        \n\n    \n\n        \n            \n                \n                \n    \n        <p style=\"margin-bottom: 0.5em; margin-top: 0em\">\n            <b>\n    \n        y\n    \n</b>\n\ntop features\n        </p>\n    \n    <table class=\"eli5-weights\"\n           style=\"border-collapse: collapse; border: none; margin-top: 0em; table-layout: auto; margin-bottom: 2em;\">\n        <thead>\n        <tr style=\"border: none;\">\n            \n                <th style=\"padding: 0 1em 0 0.5em; text-align: right; border: none;\" title=\"Feature weights. Note that weights do not account for feature value scales, so if feature values have different scales, features with highest weights might not be the most important.\">\n                    Weight<sup>?</sup>\n                </th>\n            \n            <th style=\"padding: 0 0.5em 0 0.5em; text-align: left; border: none;\">Feature</th>\n            \n        </tr>\n        </thead>\n        <tbody>\n        \n            <tr style=\"background-color: hsl(120, 100.00%, 80.00%); border: none;\">\n    <td style=\"padding: 0 1em 0 0.5em; text-align: right; border: none;\">\n        +4.824\n    </td>\n    <td style=\"padding: 0 0.5em 0 0.5em; text-align: left; border: none;\">\n        &lt;BIAS&gt;\n    </td>\n    \n</tr>\n        \n            <tr style=\"background-color: hsl(120, 100.00%, 92.55%); border: none;\">\n    <td style=\"padding: 0 1em 0 0.5em; text-align: right; border: none;\">\n        +1.176\n    </td>\n    <td style=\"padding: 0 0.5em 0 0.5em; text-align: left; border: none;\">\n        молодец\n    </td>\n    \n</tr>\n        \n            <tr style=\"background-color: hsl(120, 100.00%, 92.55%); border: none;\">\n    <td style=\"padding: 0 1em 0 0.5em; text-align: right; border: none;\">\n        +1.176\n    </td>\n    <td style=\"padding: 0 0.5em 0 0.5em; text-align: left; border: none;\">\n        шикарно\n    </td>\n    \n</tr>\n        \n            <tr style=\"background-color: hsl(120, 100.00%, 92.55%); border: none;\">\n    <td style=\"padding: 0 1em 0 0.5em; text-align: right; border: none;\">\n        +1.176\n    </td>\n    <td style=\"padding: 0 0.5em 0 0.5em; text-align: left; border: none;\">\n        волшебница\n    </td>\n    \n</tr>\n        \n            <tr style=\"background-color: hsl(120, 100.00%, 92.55%); border: none;\">\n    <td style=\"padding: 0 1em 0 0.5em; text-align: right; border: none;\">\n        +1.176\n    </td>\n    <td style=\"padding: 0 0.5em 0 0.5em; text-align: left; border: none;\">\n        бал\n    </td>\n    \n</tr>\n        \n            <tr style=\"background-color: hsl(120, 100.00%, 92.55%); border: none;\">\n    <td style=\"padding: 0 1em 0 0.5em; text-align: right; border: none;\">\n        +1.176\n    </td>\n    <td style=\"padding: 0 0.5em 0 0.5em; text-align: left; border: none;\">\n        четко\n    </td>\n    \n</tr>\n        \n            <tr style=\"background-color: hsl(120, 100.00%, 92.55%); border: none;\">\n    <td style=\"padding: 0 1em 0 0.5em; text-align: right; border: none;\">\n        +1.176\n    </td>\n    <td style=\"padding: 0 0.5em 0 0.5em; text-align: left; border: none;\">\n        талант\n    </td>\n    \n</tr>\n        \n            <tr style=\"background-color: hsl(120, 100.00%, 92.55%); border: none;\">\n    <td style=\"padding: 0 1em 0 0.5em; text-align: right; border: none;\">\n        +1.176\n    </td>\n    <td style=\"padding: 0 0.5em 0 0.5em; text-align: left; border: none;\">\n        проходить\n    </td>\n    \n</tr>\n        \n            <tr style=\"background-color: hsl(120, 100.00%, 92.55%); border: none;\">\n    <td style=\"padding: 0 1em 0 0.5em; text-align: right; border: none;\">\n        +1.176\n    </td>\n    <td style=\"padding: 0 0.5em 0 0.5em; text-align: left; border: none;\">\n        очень\n    </td>\n    \n</tr>\n        \n        \n            <tr style=\"background-color: hsl(120, 100.00%, 92.55%); border: none;\">\n                <td colspan=\"2\" style=\"padding: 0 0.5em 0 0.5em; text-align: center; border: none; white-space: nowrap;\">\n                    <i>&hellip; 47661 more positive &hellip;</i>\n                </td>\n            </tr>\n        \n\n        \n            <tr style=\"background-color: hsl(0, 100.00%, 91.86%); border: none;\">\n                <td colspan=\"2\" style=\"padding: 0 0.5em 0 0.5em; text-align: center; border: none; white-space: nowrap;\">\n                    <i>&hellip; 28983 more negative &hellip;</i>\n                </td>\n            </tr>\n        \n        \n            <tr style=\"background-color: hsl(0, 100.00%, 91.86%); border: none;\">\n    <td style=\"padding: 0 1em 0 0.5em; text-align: right; border: none;\">\n        -1.336\n    </td>\n    <td style=\"padding: 0 0.5em 0 0.5em; text-align: left; border: none;\">\n        логотип понравиться\n    </td>\n    \n</tr>\n        \n            <tr style=\"background-color: hsl(0, 100.00%, 91.80%); border: none;\">\n    <td style=\"padding: 0 1em 0 0.5em; text-align: right; border: none;\">\n        -1.349\n    </td>\n    <td style=\"padding: 0 0.5em 0 0.5em; text-align: left; border: none;\">\n        профессиональный\n    </td>\n    \n</tr>\n        \n            <tr style=\"background-color: hsl(0, 100.00%, 91.31%); border: none;\">\n    <td style=\"padding: 0 1em 0 0.5em; text-align: right; border: none;\">\n        -1.468\n    </td>\n    <td style=\"padding: 0 0.5em 0 0.5em; text-align: left; border: none;\">\n        некомпетентный специалист\n    </td>\n    \n</tr>\n        \n            <tr style=\"background-color: hsl(0, 100.00%, 91.29%); border: none;\">\n    <td style=\"padding: 0 1em 0 0.5em; text-align: right; border: none;\">\n        -1.472\n    </td>\n    <td style=\"padding: 0 0.5em 0 0.5em; text-align: left; border: none;\">\n        некомпетентный\n    </td>\n    \n</tr>\n        \n            <tr style=\"background-color: hsl(0, 100.00%, 91.10%); border: none;\">\n    <td style=\"padding: 0 1em 0 0.5em; text-align: right; border: none;\">\n        -1.516\n    </td>\n    <td style=\"padding: 0 0.5em 0 0.5em; text-align: left; border: none;\">\n        профессиональный подход\n    </td>\n    \n</tr>\n        \n            <tr style=\"background-color: hsl(0, 100.00%, 88.99%); border: none;\">\n    <td style=\"padding: 0 1em 0 0.5em; text-align: right; border: none;\">\n        -2.056\n    </td>\n    <td style=\"padding: 0 0.5em 0 0.5em; text-align: left; border: none;\">\n        денисовна\n    </td>\n    \n</tr>\n        \n            <tr style=\"background-color: hsl(0, 100.00%, 88.94%); border: none;\">\n    <td style=\"padding: 0 1em 0 0.5em; text-align: right; border: none;\">\n        -2.068\n    </td>\n    <td style=\"padding: 0 0.5em 0 0.5em; text-align: left; border: none;\">\n        денисовна супер\n    </td>\n    \n</tr>\n        \n            <tr style=\"background-color: hsl(0, 100.00%, 86.25%); border: none;\">\n    <td style=\"padding: 0 1em 0 0.5em; text-align: right; border: none;\">\n        -2.824\n    </td>\n    <td style=\"padding: 0 0.5em 0 0.5em; text-align: left; border: none;\">\n        аккуратно\n    </td>\n    \n</tr>\n        \n            <tr style=\"background-color: hsl(0, 100.00%, 86.25%); border: none;\">\n    <td style=\"padding: 0 1em 0 0.5em; text-align: right; border: none;\">\n        -2.824\n    </td>\n    <td style=\"padding: 0 0.5em 0 0.5em; text-align: left; border: none;\">\n        оценка\n    </td>\n    \n</tr>\n        \n            <tr style=\"background-color: hsl(0, 100.00%, 86.25%); border: none;\">\n    <td style=\"padding: 0 1em 0 0.5em; text-align: right; border: none;\">\n        -2.824\n    </td>\n    <td style=\"padding: 0 0.5em 0 0.5em; text-align: left; border: none;\">\n        пунктуальность\n    </td>\n    \n</tr>\n        \n            <tr style=\"background-color: hsl(0, 100.00%, 83.00%); border: none;\">\n    <td style=\"padding: 0 1em 0 0.5em; text-align: right; border: none;\">\n        -3.824\n    </td>\n    <td style=\"padding: 0 0.5em 0 0.5em; text-align: left; border: none;\">\n        лохотрон\n    </td>\n    \n</tr>\n        \n\n        </tbody>\n    </table>\n\n            \n        \n\n        \n\n\n\n    \n\n    \n\n    \n\n    \n\n\n    \n\n    \n\n    \n\n    \n\n    \n\n    \n\n\n    \n\n    \n\n    \n\n    \n\n    \n\n    \n\n\n\n"
     },
     "execution_count": 47,
     "metadata": {},
     "output_type": "execute_result"
    }
   ],
   "source": [
    "eli5.sklearn.explain_weights_sklearn(linear_f, vec=vec_f)"
   ],
   "metadata": {
    "collapsed": false,
    "pycharm": {
     "name": "#%%\n"
    }
   }
  },
  {
   "cell_type": "code",
   "execution_count": 48,
   "outputs": [],
   "source": [
    "# построим бинарную логистическую регрессию, где объединим оценки 5 и 5+ в первый класс и 1-4 во второй класс\n",
    "\n",
    "with_reviews['sentiment'] = 1\n",
    "with_reviews.loc[with_reviews.marks.isin([1, 2, 3, 4]), 'sentiment'] = 0"
   ],
   "metadata": {
    "collapsed": false,
    "pycharm": {
     "name": "#%%\n"
    }
   }
  },
  {
   "cell_type": "code",
   "execution_count": 49,
   "outputs": [
    {
     "data": {
      "text/plain": "1    8538\n0     442\nName: sentiment, dtype: int64"
     },
     "execution_count": 49,
     "metadata": {},
     "output_type": "execute_result"
    }
   ],
   "source": [
    "with_reviews.sentiment.value_counts()"
   ],
   "metadata": {
    "collapsed": false,
    "pycharm": {
     "name": "#%%\n"
    }
   }
  },
  {
   "cell_type": "code",
   "execution_count": 169,
   "outputs": [],
   "source": [
    "def has_cyrillic(text):\n",
    "    \"\"\"\n",
    "    Проверяет, написано ли слово на кириллице\n",
    "    \"\"\"\n",
    "    return bool(re.search('[а-яА-Я]', text))"
   ],
   "metadata": {
    "collapsed": false,
    "pycharm": {
     "name": "#%%\n"
    }
   }
  },
  {
   "cell_type": "code",
   "execution_count": 190,
   "outputs": [],
   "source": [
    "def clean(text_tokenized):\n",
    "    \"\"\"\n",
    "    Функция для выделения прилагательных в текстах отзывов (включает чистку от слов на латинице)\n",
    "    \"\"\"\n",
    "    tokens = [token for token in text_tokenized if token.isalpha() and (token != ' ') and has_cyrillic(token) is True]\n",
    "    tokens_res = []\n",
    "    for token in tokens:\n",
    "        try:\n",
    "            if mystem.analyze(token)[0]['analysis'][0]['gr'].startswith('A='):\n",
    "                tokens_res.append(token)\n",
    "        except:\n",
    "            pass\n",
    "    return \" \".join(tokens_res)"
   ],
   "metadata": {
    "collapsed": false,
    "pycharm": {
     "name": "#%%\n"
    }
   }
  },
  {
   "cell_type": "code",
   "execution_count": 191,
   "outputs": [],
   "source": [
    "with_reviews['adjectives'] = with_reviews.texts_preprocessed.apply(clean)"
   ],
   "metadata": {
    "collapsed": false,
    "pycharm": {
     "name": "#%%\n"
    }
   }
  },
  {
   "cell_type": "code",
   "execution_count": 192,
   "outputs": [],
   "source": [
    "women_bin = with_reviews[with_reviews.freelancer_gender == 'female'][['texts_joined', 'sentiment', 'adjectives']]\n",
    "men_bin = with_reviews[with_reviews.freelancer_gender == 'male'][['texts_joined', 'sentiment', 'adjectives']]"
   ],
   "metadata": {
    "collapsed": false,
    "pycharm": {
     "name": "#%%\n"
    }
   }
  },
  {
   "cell_type": "code",
   "execution_count": 193,
   "outputs": [],
   "source": [
    "cv_f = CountVectorizer()\n",
    "cv_fit_f = cv_f.fit_transform(women_bin.adjectives.values)\n",
    "freqs_f = dict(zip(cv_f.get_feature_names(), np.asarray(cv_fit_f.sum(axis=0))[0]))"
   ],
   "metadata": {
    "collapsed": false,
    "pycharm": {
     "name": "#%%\n"
    }
   }
  },
  {
   "cell_type": "code",
   "execution_count": 195,
   "outputs": [],
   "source": [
    "cv_m = CountVectorizer()\n",
    "cv_fit_m = cv_m.fit_transform(men_bin.adjectives.values)\n",
    "freqs_m = dict(zip(cv_m.get_feature_names(), np.asarray(cv_fit_m.sum(axis=0))[0]))"
   ],
   "metadata": {
    "collapsed": false,
    "pycharm": {
     "name": "#%%\n"
    }
   }
  },
  {
   "cell_type": "code",
   "execution_count": 197,
   "outputs": [],
   "source": [
    "women_frame = pd.Series(dict(sorted(freqs_f.items(), key=lambda item: item[1], reverse=True))).to_frame().reset_index().rename(columns={0: 'female_freq', 'index': 'adjective'})\n",
    "men_frame = pd.Series(dict(sorted(freqs_m.items(), key=lambda item: item[1], reverse=True))).to_frame().reset_index().rename(columns={0: 'male_freq', 'index': 'adjective'})"
   ],
   "metadata": {
    "collapsed": false,
    "pycharm": {
     "name": "#%%\n"
    }
   }
  },
  {
   "cell_type": "code",
   "execution_count": 199,
   "outputs": [
    {
     "data": {
      "text/plain": "         adjective  female_freq  male_freq   share_f   share_m\n0        довольный        729.0      419.0  0.131755  0.121555\n1         отличный        614.0      402.0  0.110971  0.116623\n2          большой        599.0      317.0  0.108260  0.091964\n3          хороший        529.0      314.0  0.095608  0.091094\n4         огромный        329.0      219.0  0.059461  0.063534\n...            ...          ...        ...       ...       ...\n1134    цитрусовый          NaN        1.0       NaN  0.000290\n1135  чистоплотный          NaN        1.0       NaN  0.000290\n1136       штатный          NaN        1.0       NaN  0.000290\n1137       юморный          NaN        1.0       NaN  0.000290\n1138      якутский          NaN        1.0       NaN  0.000290\n\n[1139 rows x 5 columns]",
      "text/html": "<div>\n<style scoped>\n    .dataframe tbody tr th:only-of-type {\n        vertical-align: middle;\n    }\n\n    .dataframe tbody tr th {\n        vertical-align: top;\n    }\n\n    .dataframe thead th {\n        text-align: right;\n    }\n</style>\n<table border=\"1\" class=\"dataframe\">\n  <thead>\n    <tr style=\"text-align: right;\">\n      <th></th>\n      <th>adjective</th>\n      <th>female_freq</th>\n      <th>male_freq</th>\n      <th>share_f</th>\n      <th>share_m</th>\n    </tr>\n  </thead>\n  <tbody>\n    <tr>\n      <th>0</th>\n      <td>довольный</td>\n      <td>729.0</td>\n      <td>419.0</td>\n      <td>0.131755</td>\n      <td>0.121555</td>\n    </tr>\n    <tr>\n      <th>1</th>\n      <td>отличный</td>\n      <td>614.0</td>\n      <td>402.0</td>\n      <td>0.110971</td>\n      <td>0.116623</td>\n    </tr>\n    <tr>\n      <th>2</th>\n      <td>большой</td>\n      <td>599.0</td>\n      <td>317.0</td>\n      <td>0.108260</td>\n      <td>0.091964</td>\n    </tr>\n    <tr>\n      <th>3</th>\n      <td>хороший</td>\n      <td>529.0</td>\n      <td>314.0</td>\n      <td>0.095608</td>\n      <td>0.091094</td>\n    </tr>\n    <tr>\n      <th>4</th>\n      <td>огромный</td>\n      <td>329.0</td>\n      <td>219.0</td>\n      <td>0.059461</td>\n      <td>0.063534</td>\n    </tr>\n    <tr>\n      <th>...</th>\n      <td>...</td>\n      <td>...</td>\n      <td>...</td>\n      <td>...</td>\n      <td>...</td>\n    </tr>\n    <tr>\n      <th>1134</th>\n      <td>цитрусовый</td>\n      <td>NaN</td>\n      <td>1.0</td>\n      <td>NaN</td>\n      <td>0.000290</td>\n    </tr>\n    <tr>\n      <th>1135</th>\n      <td>чистоплотный</td>\n      <td>NaN</td>\n      <td>1.0</td>\n      <td>NaN</td>\n      <td>0.000290</td>\n    </tr>\n    <tr>\n      <th>1136</th>\n      <td>штатный</td>\n      <td>NaN</td>\n      <td>1.0</td>\n      <td>NaN</td>\n      <td>0.000290</td>\n    </tr>\n    <tr>\n      <th>1137</th>\n      <td>юморный</td>\n      <td>NaN</td>\n      <td>1.0</td>\n      <td>NaN</td>\n      <td>0.000290</td>\n    </tr>\n    <tr>\n      <th>1138</th>\n      <td>якутский</td>\n      <td>NaN</td>\n      <td>1.0</td>\n      <td>NaN</td>\n      <td>0.000290</td>\n    </tr>\n  </tbody>\n</table>\n<p>1139 rows × 5 columns</p>\n</div>"
     },
     "execution_count": 199,
     "metadata": {},
     "output_type": "execute_result"
    }
   ],
   "source": [
    "adjectives = women_frame.merge(men_frame, on='adjective', how='outer')\n",
    "adjectives['share_f'] = adjectives.female_freq / women_bin.shape[0]\n",
    "adjectives['share_m'] = adjectives.male_freq / men_bin.shape[0]\n",
    "adjectives"
   ],
   "metadata": {
    "collapsed": false,
    "pycharm": {
     "name": "#%%\n"
    }
   }
  },
  {
   "cell_type": "markdown",
   "source": [
    "По-моему очень интересно то, насколько совпадает доля среди нейтральных слов (топ-5). Прекрасный, приятный, замечательный, красивый, отзывчивый - доля сильно выше в женских отзывах. Грамотный, настоящий (специалист), аккуратный - среди мужчин."
   ],
   "metadata": {
    "collapsed": false,
    "pycharm": {
     "name": "#%% md\n"
    }
   }
  },
  {
   "cell_type": "code",
   "execution_count": 51,
   "outputs": [],
   "source": [
    "x_train_mb, x_test_mb, y_train_mb, y_test_mb = train_test_split(men_bin.texts_joined, men_bin.sentiment, random_state=42)\n",
    "x_train_fb, x_test_fb, y_train_fb, y_test_fb = train_test_split(women_bin.texts_joined, women_bin.sentiment, random_state=42)"
   ],
   "metadata": {
    "collapsed": false,
    "pycharm": {
     "name": "#%%\n"
    }
   }
  },
  {
   "cell_type": "code",
   "execution_count": 52,
   "outputs": [],
   "source": [
    "vec_mb = TfidfVectorizer(ngram_range=(1, 3), max_features=10000)\n",
    "vec_train_mb = vec_mb.fit_transform(x_train_mb)\n",
    "vec_test_mb = vec_mb.transform(x_test_mb)\n",
    "\n",
    "\n",
    "scaler_mb = MaxAbsScaler()\n",
    "vec_train_mb = scaler_mb.fit_transform(vec_train_mb)\n",
    "vec_test_mb = scaler_mb.transform(vec_test_mb)"
   ],
   "metadata": {
    "collapsed": false,
    "pycharm": {
     "name": "#%%\n"
    }
   }
  },
  {
   "cell_type": "code",
   "execution_count": 53,
   "outputs": [
    {
     "data": {
      "text/plain": "GridSearchCV(cv=5, estimator=LogisticRegression(),\n             param_grid={'C': array([1.e-03, 1.e-02, 1.e-01, 1.e+00, 1.e+01, 1.e+02, 1.e+03]),\n                         'penalty': ['l1', 'l2', None],\n                         'solver': ['lbfgs', 'liblinear']})"
     },
     "execution_count": 53,
     "metadata": {},
     "output_type": "execute_result"
    }
   ],
   "source": [
    "grid = {\"C\": np.logspace(-3, 3, 7),\n",
    "        \"penalty\": [\"l1\", \"l2\", None],\n",
    "        \"solver\": ['lbfgs', 'liblinear']} # l1 lasso l2 ridge\n",
    "logreg = LogisticRegression()\n",
    "logreg_cv = GridSearchCV(logreg, grid, cv=5)\n",
    "logreg_cv.fit(vec_train_mb, y_train_mb)"
   ],
   "metadata": {
    "collapsed": false,
    "pycharm": {
     "name": "#%%\n"
    }
   }
  },
  {
   "cell_type": "code",
   "execution_count": 54,
   "outputs": [
    {
     "data": {
      "text/plain": "{'C': 1000.0, 'penalty': 'l2', 'solver': 'lbfgs'}"
     },
     "execution_count": 54,
     "metadata": {},
     "output_type": "execute_result"
    }
   ],
   "source": [
    "logreg_cv.best_params_"
   ],
   "metadata": {
    "collapsed": false,
    "pycharm": {
     "name": "#%%\n"
    }
   }
  },
  {
   "cell_type": "code",
   "execution_count": 55,
   "outputs": [],
   "source": [
    "log_m = LogisticRegression(C=1000.0, penalty='l2', solver='lbfgs')\n",
    "log_m.fit(vec_train_mb, y_train_mb)\n",
    "preds_mb = log_m.predict(vec_test_mb)"
   ],
   "metadata": {
    "collapsed": false,
    "pycharm": {
     "name": "#%%\n"
    }
   }
  },
  {
   "cell_type": "code",
   "execution_count": 56,
   "outputs": [
    {
     "name": "stdout",
     "output_type": "stream",
     "text": [
      "              precision    recall  f1-score   support\n",
      "\n",
      "           0       0.70      0.94      0.80        35\n",
      "           1       1.00      0.98      0.99       827\n",
      "\n",
      "    accuracy                           0.98       862\n",
      "   macro avg       0.85      0.96      0.90       862\n",
      "weighted avg       0.99      0.98      0.98       862\n",
      "\n"
     ]
    }
   ],
   "source": [
    "print(classification_report(preds_mb, y_test_mb))"
   ],
   "metadata": {
    "collapsed": false,
    "pycharm": {
     "name": "#%%\n"
    }
   }
  },
  {
   "cell_type": "code",
   "execution_count": 57,
   "outputs": [
    {
     "data": {
      "text/plain": "Explanation(estimator='LogisticRegression(C=1000.0)', description=\"\\nFeatures with largest coefficients.\\nCaveats:\\n1. Be careful with features which are not\\n   independent - weights don't show their importance.\\n2. If scale of input features is different then scale of coefficients\\n   will also be different, making direct comparison between coefficient values\\n   incorrect.\\n3. Depending on regularization, rare features sometimes may have high\\n   coefficients; this doesn't mean they contribute much to the\\n   classification result for most examples.\\n\", error=None, method='linear model', is_regression=False, targets=[TargetExplanation(target=1, feature_weights=FeatureWeights(pos=[FeatureWeight(feature='очень', weight=10.550290300846475, std=None, value=None), FeatureWeight(feature='молодец', weight=8.048032750589146, std=None, value=None), FeatureWeight(feature='быстро', weight=7.834757702628607, std=None, value=None), FeatureWeight(feature='отлично', weight=7.697884067474017, std=None, value=None), FeatureWeight(feature='отличный', weight=7.1698372809246536, std=None, value=None), FeatureWeight(feature='качественно', weight=6.908834667996131, std=None, value=None), FeatureWeight(feature='спасибо', weight=6.489511492536918, std=None, value=None), FeatureWeight(feature='оперативно', weight=5.542537520494378, std=None, value=None), FeatureWeight(feature='хороший специалист', weight=5.288675132215086, std=None, value=None), FeatureWeight(feature='понравиться', weight=5.246654936248232, std=None, value=None), FeatureWeight(feature='супер', weight=4.862946832924979, std=None, value=None), FeatureWeight(feature='четко', weight=4.842367748471685, std=None, value=None), FeatureWeight(feature='довольный', weight=4.813696017190864, std=None, value=None), FeatureWeight(feature='срок', weight=4.736094704548432, std=None, value=None), FeatureWeight(feature='обращаться', weight=4.333370819427165, std=None, value=None), FeatureWeight(feature='хороший специалист рекомендовать', weight=4.127525485175034, std=None, value=None), FeatureWeight(feature='замечательно', weight=3.894133783132141, std=None, value=None), FeatureWeight(feature='сделать', weight=3.797497126461114, std=None, value=None), FeatureWeight(feature='профессионал', weight=3.7036629923923994, std=None, value=None), FeatureWeight(feature='профессионально', weight=3.650528977001494, std=None, value=None), FeatureWeight(feature='договариваться рекомендовать', weight=3.478937097207829, std=None, value=None), FeatureWeight(feature='отличный специалист', weight=3.446047000841795, std=None, value=None), FeatureWeight(feature='весь', weight=3.414250315375821, std=None, value=None), FeatureWeight(feature='дело', weight=3.3777633375312397, std=None, value=None), FeatureWeight(feature='помогать', weight=3.316516891231105, std=None, value=None), FeatureWeight(feature='оперативность', weight=3.2382013375099903, std=None, value=None), FeatureWeight(feature='объяснять', weight=3.192798961644898, std=None, value=None), FeatureWeight(feature='хотеть', weight=3.182593770284901, std=None, value=None), FeatureWeight(feature='большой', weight=3.132537592527239, std=None, value=None), FeatureWeight(feature='круто', weight=3.1292462153523424, std=None, value=None), FeatureWeight(feature='понимание', weight=3.116788630533955, std=None, value=None), FeatureWeight(feature='креативность', weight=3.0802412298984976, std=None, value=None), FeatureWeight(feature='устраивать', weight=3.015559806120978, std=None, value=None), FeatureWeight(feature='100', weight=3.0075058608929615, std=None, value=None), FeatureWeight(feature='отличный специалист рекомендовать', weight=3.0032667648548377, std=None, value=None), FeatureWeight(feature='благодарить', weight=2.968808003679252, std=None, value=None), FeatureWeight(feature='порядок', weight=2.9287608437788997, std=None, value=None), FeatureWeight(feature='понятно', weight=2.9194195549494992, std=None, value=None), FeatureWeight(feature='time', weight=2.908898629302545, std=None, value=None), FeatureWeight(feature='нормальный', weight=2.9038788123663375, std=None, value=None), FeatureWeight(feature='<BIAS>', weight=2.8993688370847126, std=None, value=None), FeatureWeight(feature='абсолютно', weight=2.875909118725894, std=None, value=None), FeatureWeight(feature='специалист довольный', weight=2.8177511361457577, std=None, value=None), FeatureWeight(feature='работа специалист довольный', weight=2.8177511361457577, std=None, value=None)], neg=[FeatureWeight(feature='никак', weight=-8.976128758555516, std=None, value=None), FeatureWeight(feature='консультация', weight=-8.234761498607346, std=None, value=None), FeatureWeight(feature='пропадать', weight=-7.795179470707342, std=None, value=None), FeatureWeight(feature='спасибо сотрудничество', weight=-6.837054742509158, std=None, value=None), FeatureWeight(feature='свой работа сделать', weight=-6.276531331343421, std=None, value=None), FeatureWeight(feature='ничто', weight=-6.208495757730365, std=None, value=None), FeatureWeight(feature='задача давать', weight=-5.563075020958021, std=None, value=None), FeatureWeight(feature='задержка', weight=-5.430768360940097, std=None, value=None), FeatureWeight(feature='неплохо', weight=-5.178205547122916, std=None, value=None), FeatureWeight(feature='предоплата', weight=-5.177310480261376, std=None, value=None), FeatureWeight(feature='специалист рекомендовать', weight=-5.008495777893513, std=None, value=None), FeatureWeight(feature='человек сделать', weight=-4.830180868184656, std=None, value=None), FeatureWeight(feature='факт', weight=-4.782072968569464, std=None, value=None), FeatureWeight(feature='работа специалист', weight=-4.732586557532824, std=None, value=None), FeatureWeight(feature='относиться работа', weight=-4.652530967976126, std=None, value=None), FeatureWeight(feature='портфолио', weight=-4.6040763765164225, std=None, value=None), FeatureWeight(feature='смочь', weight=-4.0619606188084365, std=None, value=None), FeatureWeight(feature='желание клиент', weight=-3.917158454314848, std=None, value=None), FeatureWeight(feature='специалист внимательный', weight=-3.8434455812978867, std=None, value=None), FeatureWeight(feature='определять', weight=-3.76752750064482, std=None, value=None), FeatureWeight(feature='создание', weight=-3.7503361816417065, std=None, value=None), FeatureWeight(feature='диалог', weight=-3.676753071334554, std=None, value=None), FeatureWeight(feature='работа устраивать', weight=-3.6304738098284344, std=None, value=None), FeatureWeight(feature='относиться', weight=-3.54472010338149, std=None, value=None), FeatureWeight(feature='клиентоориентированный', weight=-3.485008562318038, std=None, value=None), FeatureWeight(feature='аккуратно сделать', weight=-3.4176179351985776, std=None, value=None), FeatureWeight(feature='телефон', weight=-3.3975801095128233, std=None, value=None), FeatureWeight(feature='данный специалист', weight=-3.3722501534030207, std=None, value=None), FeatureWeight(feature='пожелание делать', weight=-3.333058251195783, std=None, value=None), FeatureWeight(feature='конкретный', weight=-3.3150223119807154, std=None, value=None), FeatureWeight(feature='разговор', weight=-3.2893803929171677, std=None, value=None), FeatureWeight(feature='безответственный', weight=-3.2807946267344086, std=None, value=None), FeatureWeight(feature='неделя', weight=-3.2735743484343924, std=None, value=None), FeatureWeight(feature='хватать', weight=-3.2511143055421057, std=None, value=None), FeatureWeight(feature='обговаривать', weight=-3.218202000797335, std=None, value=None), FeatureWeight(feature='целое', weight=-3.205377083137294, std=None, value=None), FeatureWeight(feature='безответственный человек', weight=-3.185224967231383, std=None, value=None), FeatureWeight(feature='выходить', weight=-3.153201278118391, std=None, value=None), FeatureWeight(feature='решать поставлять задача', weight=-3.062332176815627, std=None, value=None), FeatureWeight(feature='деньги', weight=-3.043808934593795, std=None, value=None), FeatureWeight(feature='сказать', weight=-3.0403173899588536, std=None, value=None), FeatureWeight(feature='рекомендовать', weight=-3.036403628045266, std=None, value=None), FeatureWeight(feature='наверное', weight=-3.0278229307762103, std=None, value=None), FeatureWeight(feature='понравиться весь', weight=-2.988260431866498, std=None, value=None), FeatureWeight(feature='сначала', weight=-2.9639875405926377, std=None, value=None), FeatureWeight(feature='ока', weight=-2.8889187813185218, std=None, value=None), FeatureWeight(feature='отказываться', weight=-2.8754706708864872, std=None, value=None), FeatureWeight(feature='возможно', weight=-2.8563808801915, std=None, value=None), FeatureWeight(feature='сделать улучшать', weight=-2.855095628380406, std=None, value=None), FeatureWeight(feature='сделать улучшать клиентоориентированность', weight=-2.855095628380406, std=None, value=None), FeatureWeight(feature='специалист выполнять работа', weight=-2.831225031491077, std=None, value=None), FeatureWeight(feature='звонить', weight=-2.799906593887145, std=None, value=None), FeatureWeight(feature='давать', weight=-2.79109585429749, std=None, value=None), FeatureWeight(feature='креатив', weight=-2.782468467038932, std=None, value=None), FeatureWeight(feature='сорвать', weight=-2.7797814003594574, std=None, value=None), FeatureWeight(feature='наполнение', weight=-2.7794881130951423, std=None, value=None)], pos_remaining=8860, neg_remaining=1041), proba=None, score=None, weighted_spans=None, heatmap=None)], feature_importances=None, decision_tree=None, highlight_spaces=None, transition_features=None, image=None)",
      "text/html": "\n    <style>\n    table.eli5-weights tr:hover {\n        filter: brightness(85%);\n    }\n</style>\n\n\n\n    \n\n    \n\n    \n\n    \n\n    \n\n    \n\n\n    \n\n    \n\n    \n\n    \n        \n\n    \n\n        \n            \n                \n                \n    \n        <p style=\"margin-bottom: 0.5em; margin-top: 0em\">\n            <b>\n    \n        y=1\n    \n</b>\n\ntop features\n        </p>\n    \n    <table class=\"eli5-weights\"\n           style=\"border-collapse: collapse; border: none; margin-top: 0em; table-layout: auto; margin-bottom: 2em;\">\n        <thead>\n        <tr style=\"border: none;\">\n            \n                <th style=\"padding: 0 1em 0 0.5em; text-align: right; border: none;\" title=\"Feature weights. Note that weights do not account for feature value scales, so if feature values have different scales, features with highest weights might not be the most important.\">\n                    Weight<sup>?</sup>\n                </th>\n            \n            <th style=\"padding: 0 0.5em 0 0.5em; text-align: left; border: none;\">Feature</th>\n            \n        </tr>\n        </thead>\n        <tbody>\n        \n            <tr style=\"background-color: hsl(120, 100.00%, 80.00%); border: none;\">\n    <td style=\"padding: 0 1em 0 0.5em; text-align: right; border: none;\">\n        +10.550\n    </td>\n    <td style=\"padding: 0 0.5em 0 0.5em; text-align: left; border: none;\">\n        очень\n    </td>\n    \n</tr>\n        \n            <tr style=\"background-color: hsl(120, 100.00%, 83.45%); border: none;\">\n    <td style=\"padding: 0 1em 0 0.5em; text-align: right; border: none;\">\n        +8.048\n    </td>\n    <td style=\"padding: 0 0.5em 0 0.5em; text-align: left; border: none;\">\n        молодец\n    </td>\n    \n</tr>\n        \n            <tr style=\"background-color: hsl(120, 100.00%, 83.76%); border: none;\">\n    <td style=\"padding: 0 1em 0 0.5em; text-align: right; border: none;\">\n        +7.835\n    </td>\n    <td style=\"padding: 0 0.5em 0 0.5em; text-align: left; border: none;\">\n        быстро\n    </td>\n    \n</tr>\n        \n            <tr style=\"background-color: hsl(120, 100.00%, 83.96%); border: none;\">\n    <td style=\"padding: 0 1em 0 0.5em; text-align: right; border: none;\">\n        +7.698\n    </td>\n    <td style=\"padding: 0 0.5em 0 0.5em; text-align: left; border: none;\">\n        отлично\n    </td>\n    \n</tr>\n        \n            <tr style=\"background-color: hsl(120, 100.00%, 84.74%); border: none;\">\n    <td style=\"padding: 0 1em 0 0.5em; text-align: right; border: none;\">\n        +7.170\n    </td>\n    <td style=\"padding: 0 0.5em 0 0.5em; text-align: left; border: none;\">\n        отличный\n    </td>\n    \n</tr>\n        \n            <tr style=\"background-color: hsl(120, 100.00%, 85.13%); border: none;\">\n    <td style=\"padding: 0 1em 0 0.5em; text-align: right; border: none;\">\n        +6.909\n    </td>\n    <td style=\"padding: 0 0.5em 0 0.5em; text-align: left; border: none;\">\n        качественно\n    </td>\n    \n</tr>\n        \n            <tr style=\"background-color: hsl(120, 100.00%, 85.77%); border: none;\">\n    <td style=\"padding: 0 1em 0 0.5em; text-align: right; border: none;\">\n        +6.490\n    </td>\n    <td style=\"padding: 0 0.5em 0 0.5em; text-align: left; border: none;\">\n        спасибо\n    </td>\n    \n</tr>\n        \n            <tr style=\"background-color: hsl(120, 100.00%, 87.25%); border: none;\">\n    <td style=\"padding: 0 1em 0 0.5em; text-align: right; border: none;\">\n        +5.543\n    </td>\n    <td style=\"padding: 0 0.5em 0 0.5em; text-align: left; border: none;\">\n        оперативно\n    </td>\n    \n</tr>\n        \n            <tr style=\"background-color: hsl(120, 100.00%, 87.67%); border: none;\">\n    <td style=\"padding: 0 1em 0 0.5em; text-align: right; border: none;\">\n        +5.289\n    </td>\n    <td style=\"padding: 0 0.5em 0 0.5em; text-align: left; border: none;\">\n        хороший специалист\n    </td>\n    \n</tr>\n        \n            <tr style=\"background-color: hsl(120, 100.00%, 87.74%); border: none;\">\n    <td style=\"padding: 0 1em 0 0.5em; text-align: right; border: none;\">\n        +5.247\n    </td>\n    <td style=\"padding: 0 0.5em 0 0.5em; text-align: left; border: none;\">\n        понравиться\n    </td>\n    \n</tr>\n        \n            <tr style=\"background-color: hsl(120, 100.00%, 88.37%); border: none;\">\n    <td style=\"padding: 0 1em 0 0.5em; text-align: right; border: none;\">\n        +4.863\n    </td>\n    <td style=\"padding: 0 0.5em 0 0.5em; text-align: left; border: none;\">\n        супер\n    </td>\n    \n</tr>\n        \n            <tr style=\"background-color: hsl(120, 100.00%, 88.40%); border: none;\">\n    <td style=\"padding: 0 1em 0 0.5em; text-align: right; border: none;\">\n        +4.842\n    </td>\n    <td style=\"padding: 0 0.5em 0 0.5em; text-align: left; border: none;\">\n        четко\n    </td>\n    \n</tr>\n        \n            <tr style=\"background-color: hsl(120, 100.00%, 88.45%); border: none;\">\n    <td style=\"padding: 0 1em 0 0.5em; text-align: right; border: none;\">\n        +4.814\n    </td>\n    <td style=\"padding: 0 0.5em 0 0.5em; text-align: left; border: none;\">\n        довольный\n    </td>\n    \n</tr>\n        \n            <tr style=\"background-color: hsl(120, 100.00%, 88.58%); border: none;\">\n    <td style=\"padding: 0 1em 0 0.5em; text-align: right; border: none;\">\n        +4.736\n    </td>\n    <td style=\"padding: 0 0.5em 0 0.5em; text-align: left; border: none;\">\n        срок\n    </td>\n    \n</tr>\n        \n            <tr style=\"background-color: hsl(120, 100.00%, 89.27%); border: none;\">\n    <td style=\"padding: 0 1em 0 0.5em; text-align: right; border: none;\">\n        +4.333\n    </td>\n    <td style=\"padding: 0 0.5em 0 0.5em; text-align: left; border: none;\">\n        обращаться\n    </td>\n    \n</tr>\n        \n            <tr style=\"background-color: hsl(120, 100.00%, 89.63%); border: none;\">\n    <td style=\"padding: 0 1em 0 0.5em; text-align: right; border: none;\">\n        +4.128\n    </td>\n    <td style=\"padding: 0 0.5em 0 0.5em; text-align: left; border: none;\">\n        хороший специалист рекомендовать\n    </td>\n    \n</tr>\n        \n            <tr style=\"background-color: hsl(120, 100.00%, 90.05%); border: none;\">\n    <td style=\"padding: 0 1em 0 0.5em; text-align: right; border: none;\">\n        +3.894\n    </td>\n    <td style=\"padding: 0 0.5em 0 0.5em; text-align: left; border: none;\">\n        замечательно\n    </td>\n    \n</tr>\n        \n            <tr style=\"background-color: hsl(120, 100.00%, 90.22%); border: none;\">\n    <td style=\"padding: 0 1em 0 0.5em; text-align: right; border: none;\">\n        +3.797\n    </td>\n    <td style=\"padding: 0 0.5em 0 0.5em; text-align: left; border: none;\">\n        сделать\n    </td>\n    \n</tr>\n        \n            <tr style=\"background-color: hsl(120, 100.00%, 90.39%); border: none;\">\n    <td style=\"padding: 0 1em 0 0.5em; text-align: right; border: none;\">\n        +3.704\n    </td>\n    <td style=\"padding: 0 0.5em 0 0.5em; text-align: left; border: none;\">\n        профессионал\n    </td>\n    \n</tr>\n        \n            <tr style=\"background-color: hsl(120, 100.00%, 90.49%); border: none;\">\n    <td style=\"padding: 0 1em 0 0.5em; text-align: right; border: none;\">\n        +3.651\n    </td>\n    <td style=\"padding: 0 0.5em 0 0.5em; text-align: left; border: none;\">\n        профессионально\n    </td>\n    \n</tr>\n        \n            <tr style=\"background-color: hsl(120, 100.00%, 90.80%); border: none;\">\n    <td style=\"padding: 0 1em 0 0.5em; text-align: right; border: none;\">\n        +3.479\n    </td>\n    <td style=\"padding: 0 0.5em 0 0.5em; text-align: left; border: none;\">\n        договариваться рекомендовать\n    </td>\n    \n</tr>\n        \n            <tr style=\"background-color: hsl(120, 100.00%, 90.86%); border: none;\">\n    <td style=\"padding: 0 1em 0 0.5em; text-align: right; border: none;\">\n        +3.446\n    </td>\n    <td style=\"padding: 0 0.5em 0 0.5em; text-align: left; border: none;\">\n        отличный специалист\n    </td>\n    \n</tr>\n        \n            <tr style=\"background-color: hsl(120, 100.00%, 90.92%); border: none;\">\n    <td style=\"padding: 0 1em 0 0.5em; text-align: right; border: none;\">\n        +3.414\n    </td>\n    <td style=\"padding: 0 0.5em 0 0.5em; text-align: left; border: none;\">\n        весь\n    </td>\n    \n</tr>\n        \n            <tr style=\"background-color: hsl(120, 100.00%, 90.99%); border: none;\">\n    <td style=\"padding: 0 1em 0 0.5em; text-align: right; border: none;\">\n        +3.378\n    </td>\n    <td style=\"padding: 0 0.5em 0 0.5em; text-align: left; border: none;\">\n        дело\n    </td>\n    \n</tr>\n        \n            <tr style=\"background-color: hsl(120, 100.00%, 91.10%); border: none;\">\n    <td style=\"padding: 0 1em 0 0.5em; text-align: right; border: none;\">\n        +3.317\n    </td>\n    <td style=\"padding: 0 0.5em 0 0.5em; text-align: left; border: none;\">\n        помогать\n    </td>\n    \n</tr>\n        \n            <tr style=\"background-color: hsl(120, 100.00%, 91.25%); border: none;\">\n    <td style=\"padding: 0 1em 0 0.5em; text-align: right; border: none;\">\n        +3.238\n    </td>\n    <td style=\"padding: 0 0.5em 0 0.5em; text-align: left; border: none;\">\n        оперативность\n    </td>\n    \n</tr>\n        \n            <tr style=\"background-color: hsl(120, 100.00%, 91.34%); border: none;\">\n    <td style=\"padding: 0 1em 0 0.5em; text-align: right; border: none;\">\n        +3.193\n    </td>\n    <td style=\"padding: 0 0.5em 0 0.5em; text-align: left; border: none;\">\n        объяснять\n    </td>\n    \n</tr>\n        \n            <tr style=\"background-color: hsl(120, 100.00%, 91.36%); border: none;\">\n    <td style=\"padding: 0 1em 0 0.5em; text-align: right; border: none;\">\n        +3.183\n    </td>\n    <td style=\"padding: 0 0.5em 0 0.5em; text-align: left; border: none;\">\n        хотеть\n    </td>\n    \n</tr>\n        \n            <tr style=\"background-color: hsl(120, 100.00%, 91.45%); border: none;\">\n    <td style=\"padding: 0 1em 0 0.5em; text-align: right; border: none;\">\n        +3.133\n    </td>\n    <td style=\"padding: 0 0.5em 0 0.5em; text-align: left; border: none;\">\n        большой\n    </td>\n    \n</tr>\n        \n            <tr style=\"background-color: hsl(120, 100.00%, 91.46%); border: none;\">\n    <td style=\"padding: 0 1em 0 0.5em; text-align: right; border: none;\">\n        +3.129\n    </td>\n    <td style=\"padding: 0 0.5em 0 0.5em; text-align: left; border: none;\">\n        круто\n    </td>\n    \n</tr>\n        \n            <tr style=\"background-color: hsl(120, 100.00%, 91.48%); border: none;\">\n    <td style=\"padding: 0 1em 0 0.5em; text-align: right; border: none;\">\n        +3.117\n    </td>\n    <td style=\"padding: 0 0.5em 0 0.5em; text-align: left; border: none;\">\n        понимание\n    </td>\n    \n</tr>\n        \n            <tr style=\"background-color: hsl(120, 100.00%, 91.55%); border: none;\">\n    <td style=\"padding: 0 1em 0 0.5em; text-align: right; border: none;\">\n        +3.080\n    </td>\n    <td style=\"padding: 0 0.5em 0 0.5em; text-align: left; border: none;\">\n        креативность\n    </td>\n    \n</tr>\n        \n            <tr style=\"background-color: hsl(120, 100.00%, 91.68%); border: none;\">\n    <td style=\"padding: 0 1em 0 0.5em; text-align: right; border: none;\">\n        +3.016\n    </td>\n    <td style=\"padding: 0 0.5em 0 0.5em; text-align: left; border: none;\">\n        устраивать\n    </td>\n    \n</tr>\n        \n            <tr style=\"background-color: hsl(120, 100.00%, 91.69%); border: none;\">\n    <td style=\"padding: 0 1em 0 0.5em; text-align: right; border: none;\">\n        +3.008\n    </td>\n    <td style=\"padding: 0 0.5em 0 0.5em; text-align: left; border: none;\">\n        100\n    </td>\n    \n</tr>\n        \n            <tr style=\"background-color: hsl(120, 100.00%, 91.70%); border: none;\">\n    <td style=\"padding: 0 1em 0 0.5em; text-align: right; border: none;\">\n        +3.003\n    </td>\n    <td style=\"padding: 0 0.5em 0 0.5em; text-align: left; border: none;\">\n        отличный специалист рекомендовать\n    </td>\n    \n</tr>\n        \n            <tr style=\"background-color: hsl(120, 100.00%, 91.77%); border: none;\">\n    <td style=\"padding: 0 1em 0 0.5em; text-align: right; border: none;\">\n        +2.969\n    </td>\n    <td style=\"padding: 0 0.5em 0 0.5em; text-align: left; border: none;\">\n        благодарить\n    </td>\n    \n</tr>\n        \n            <tr style=\"background-color: hsl(120, 100.00%, 91.85%); border: none;\">\n    <td style=\"padding: 0 1em 0 0.5em; text-align: right; border: none;\">\n        +2.929\n    </td>\n    <td style=\"padding: 0 0.5em 0 0.5em; text-align: left; border: none;\">\n        порядок\n    </td>\n    \n</tr>\n        \n            <tr style=\"background-color: hsl(120, 100.00%, 91.86%); border: none;\">\n    <td style=\"padding: 0 1em 0 0.5em; text-align: right; border: none;\">\n        +2.919\n    </td>\n    <td style=\"padding: 0 0.5em 0 0.5em; text-align: left; border: none;\">\n        понятно\n    </td>\n    \n</tr>\n        \n            <tr style=\"background-color: hsl(120, 100.00%, 91.88%); border: none;\">\n    <td style=\"padding: 0 1em 0 0.5em; text-align: right; border: none;\">\n        +2.909\n    </td>\n    <td style=\"padding: 0 0.5em 0 0.5em; text-align: left; border: none;\">\n        time\n    </td>\n    \n</tr>\n        \n            <tr style=\"background-color: hsl(120, 100.00%, 91.89%); border: none;\">\n    <td style=\"padding: 0 1em 0 0.5em; text-align: right; border: none;\">\n        +2.904\n    </td>\n    <td style=\"padding: 0 0.5em 0 0.5em; text-align: left; border: none;\">\n        нормальный\n    </td>\n    \n</tr>\n        \n            <tr style=\"background-color: hsl(120, 100.00%, 91.90%); border: none;\">\n    <td style=\"padding: 0 1em 0 0.5em; text-align: right; border: none;\">\n        +2.899\n    </td>\n    <td style=\"padding: 0 0.5em 0 0.5em; text-align: left; border: none;\">\n        &lt;BIAS&gt;\n    </td>\n    \n</tr>\n        \n            <tr style=\"background-color: hsl(120, 100.00%, 91.95%); border: none;\">\n    <td style=\"padding: 0 1em 0 0.5em; text-align: right; border: none;\">\n        +2.876\n    </td>\n    <td style=\"padding: 0 0.5em 0 0.5em; text-align: left; border: none;\">\n        абсолютно\n    </td>\n    \n</tr>\n        \n            <tr style=\"background-color: hsl(120, 100.00%, 92.06%); border: none;\">\n    <td style=\"padding: 0 1em 0 0.5em; text-align: right; border: none;\">\n        +2.818\n    </td>\n    <td style=\"padding: 0 0.5em 0 0.5em; text-align: left; border: none;\">\n        специалист довольный\n    </td>\n    \n</tr>\n        \n            <tr style=\"background-color: hsl(120, 100.00%, 92.06%); border: none;\">\n    <td style=\"padding: 0 1em 0 0.5em; text-align: right; border: none;\">\n        +2.818\n    </td>\n    <td style=\"padding: 0 0.5em 0 0.5em; text-align: left; border: none;\">\n        работа специалист довольный\n    </td>\n    \n</tr>\n        \n        \n            <tr style=\"background-color: hsl(120, 100.00%, 92.06%); border: none;\">\n                <td colspan=\"2\" style=\"padding: 0 0.5em 0 0.5em; text-align: center; border: none; white-space: nowrap;\">\n                    <i>&hellip; 8860 more positive &hellip;</i>\n                </td>\n            </tr>\n        \n\n        \n            <tr style=\"background-color: hsl(0, 100.00%, 92.14%); border: none;\">\n                <td colspan=\"2\" style=\"padding: 0 0.5em 0 0.5em; text-align: center; border: none; white-space: nowrap;\">\n                    <i>&hellip; 1041 more negative &hellip;</i>\n                </td>\n            </tr>\n        \n        \n            <tr style=\"background-color: hsl(0, 100.00%, 92.14%); border: none;\">\n    <td style=\"padding: 0 1em 0 0.5em; text-align: right; border: none;\">\n        -2.779\n    </td>\n    <td style=\"padding: 0 0.5em 0 0.5em; text-align: left; border: none;\">\n        наполнение\n    </td>\n    \n</tr>\n        \n            <tr style=\"background-color: hsl(0, 100.00%, 92.14%); border: none;\">\n    <td style=\"padding: 0 1em 0 0.5em; text-align: right; border: none;\">\n        -2.780\n    </td>\n    <td style=\"padding: 0 0.5em 0 0.5em; text-align: left; border: none;\">\n        сорвать\n    </td>\n    \n</tr>\n        \n            <tr style=\"background-color: hsl(0, 100.00%, 92.13%); border: none;\">\n    <td style=\"padding: 0 1em 0 0.5em; text-align: right; border: none;\">\n        -2.782\n    </td>\n    <td style=\"padding: 0 0.5em 0 0.5em; text-align: left; border: none;\">\n        креатив\n    </td>\n    \n</tr>\n        \n            <tr style=\"background-color: hsl(0, 100.00%, 92.12%); border: none;\">\n    <td style=\"padding: 0 1em 0 0.5em; text-align: right; border: none;\">\n        -2.791\n    </td>\n    <td style=\"padding: 0 0.5em 0 0.5em; text-align: left; border: none;\">\n        давать\n    </td>\n    \n</tr>\n        \n            <tr style=\"background-color: hsl(0, 100.00%, 92.10%); border: none;\">\n    <td style=\"padding: 0 1em 0 0.5em; text-align: right; border: none;\">\n        -2.800\n    </td>\n    <td style=\"padding: 0 0.5em 0 0.5em; text-align: left; border: none;\">\n        звонить\n    </td>\n    \n</tr>\n        \n            <tr style=\"background-color: hsl(0, 100.00%, 92.04%); border: none;\">\n    <td style=\"padding: 0 1em 0 0.5em; text-align: right; border: none;\">\n        -2.831\n    </td>\n    <td style=\"padding: 0 0.5em 0 0.5em; text-align: left; border: none;\">\n        специалист выполнять работа\n    </td>\n    \n</tr>\n        \n            <tr style=\"background-color: hsl(0, 100.00%, 91.99%); border: none;\">\n    <td style=\"padding: 0 1em 0 0.5em; text-align: right; border: none;\">\n        -2.855\n    </td>\n    <td style=\"padding: 0 0.5em 0 0.5em; text-align: left; border: none;\">\n        сделать улучшать клиентоориентированность\n    </td>\n    \n</tr>\n        \n            <tr style=\"background-color: hsl(0, 100.00%, 91.99%); border: none;\">\n    <td style=\"padding: 0 1em 0 0.5em; text-align: right; border: none;\">\n        -2.855\n    </td>\n    <td style=\"padding: 0 0.5em 0 0.5em; text-align: left; border: none;\">\n        сделать улучшать\n    </td>\n    \n</tr>\n        \n            <tr style=\"background-color: hsl(0, 100.00%, 91.99%); border: none;\">\n    <td style=\"padding: 0 1em 0 0.5em; text-align: right; border: none;\">\n        -2.856\n    </td>\n    <td style=\"padding: 0 0.5em 0 0.5em; text-align: left; border: none;\">\n        возможно\n    </td>\n    \n</tr>\n        \n            <tr style=\"background-color: hsl(0, 100.00%, 91.95%); border: none;\">\n    <td style=\"padding: 0 1em 0 0.5em; text-align: right; border: none;\">\n        -2.875\n    </td>\n    <td style=\"padding: 0 0.5em 0 0.5em; text-align: left; border: none;\">\n        отказываться\n    </td>\n    \n</tr>\n        \n            <tr style=\"background-color: hsl(0, 100.00%, 91.92%); border: none;\">\n    <td style=\"padding: 0 1em 0 0.5em; text-align: right; border: none;\">\n        -2.889\n    </td>\n    <td style=\"padding: 0 0.5em 0 0.5em; text-align: left; border: none;\">\n        ока\n    </td>\n    \n</tr>\n        \n            <tr style=\"background-color: hsl(0, 100.00%, 91.78%); border: none;\">\n    <td style=\"padding: 0 1em 0 0.5em; text-align: right; border: none;\">\n        -2.964\n    </td>\n    <td style=\"padding: 0 0.5em 0 0.5em; text-align: left; border: none;\">\n        сначала\n    </td>\n    \n</tr>\n        \n            <tr style=\"background-color: hsl(0, 100.00%, 91.73%); border: none;\">\n    <td style=\"padding: 0 1em 0 0.5em; text-align: right; border: none;\">\n        -2.988\n    </td>\n    <td style=\"padding: 0 0.5em 0 0.5em; text-align: left; border: none;\">\n        понравиться весь\n    </td>\n    \n</tr>\n        \n            <tr style=\"background-color: hsl(0, 100.00%, 91.65%); border: none;\">\n    <td style=\"padding: 0 1em 0 0.5em; text-align: right; border: none;\">\n        -3.028\n    </td>\n    <td style=\"padding: 0 0.5em 0 0.5em; text-align: left; border: none;\">\n        наверное\n    </td>\n    \n</tr>\n        \n            <tr style=\"background-color: hsl(0, 100.00%, 91.64%); border: none;\">\n    <td style=\"padding: 0 1em 0 0.5em; text-align: right; border: none;\">\n        -3.036\n    </td>\n    <td style=\"padding: 0 0.5em 0 0.5em; text-align: left; border: none;\">\n        рекомендовать\n    </td>\n    \n</tr>\n        \n            <tr style=\"background-color: hsl(0, 100.00%, 91.63%); border: none;\">\n    <td style=\"padding: 0 1em 0 0.5em; text-align: right; border: none;\">\n        -3.040\n    </td>\n    <td style=\"padding: 0 0.5em 0 0.5em; text-align: left; border: none;\">\n        сказать\n    </td>\n    \n</tr>\n        \n            <tr style=\"background-color: hsl(0, 100.00%, 91.62%); border: none;\">\n    <td style=\"padding: 0 1em 0 0.5em; text-align: right; border: none;\">\n        -3.044\n    </td>\n    <td style=\"padding: 0 0.5em 0 0.5em; text-align: left; border: none;\">\n        деньги\n    </td>\n    \n</tr>\n        \n            <tr style=\"background-color: hsl(0, 100.00%, 91.59%); border: none;\">\n    <td style=\"padding: 0 1em 0 0.5em; text-align: right; border: none;\">\n        -3.062\n    </td>\n    <td style=\"padding: 0 0.5em 0 0.5em; text-align: left; border: none;\">\n        решать поставлять задача\n    </td>\n    \n</tr>\n        \n            <tr style=\"background-color: hsl(0, 100.00%, 91.41%); border: none;\">\n    <td style=\"padding: 0 1em 0 0.5em; text-align: right; border: none;\">\n        -3.153\n    </td>\n    <td style=\"padding: 0 0.5em 0 0.5em; text-align: left; border: none;\">\n        выходить\n    </td>\n    \n</tr>\n        \n            <tr style=\"background-color: hsl(0, 100.00%, 91.35%); border: none;\">\n    <td style=\"padding: 0 1em 0 0.5em; text-align: right; border: none;\">\n        -3.185\n    </td>\n    <td style=\"padding: 0 0.5em 0 0.5em; text-align: left; border: none;\">\n        безответственный человек\n    </td>\n    \n</tr>\n        \n            <tr style=\"background-color: hsl(0, 100.00%, 91.31%); border: none;\">\n    <td style=\"padding: 0 1em 0 0.5em; text-align: right; border: none;\">\n        -3.205\n    </td>\n    <td style=\"padding: 0 0.5em 0 0.5em; text-align: left; border: none;\">\n        целое\n    </td>\n    \n</tr>\n        \n            <tr style=\"background-color: hsl(0, 100.00%, 91.29%); border: none;\">\n    <td style=\"padding: 0 1em 0 0.5em; text-align: right; border: none;\">\n        -3.218\n    </td>\n    <td style=\"padding: 0 0.5em 0 0.5em; text-align: left; border: none;\">\n        обговаривать\n    </td>\n    \n</tr>\n        \n            <tr style=\"background-color: hsl(0, 100.00%, 91.23%); border: none;\">\n    <td style=\"padding: 0 1em 0 0.5em; text-align: right; border: none;\">\n        -3.251\n    </td>\n    <td style=\"padding: 0 0.5em 0 0.5em; text-align: left; border: none;\">\n        хватать\n    </td>\n    \n</tr>\n        \n            <tr style=\"background-color: hsl(0, 100.00%, 91.18%); border: none;\">\n    <td style=\"padding: 0 1em 0 0.5em; text-align: right; border: none;\">\n        -3.274\n    </td>\n    <td style=\"padding: 0 0.5em 0 0.5em; text-align: left; border: none;\">\n        неделя\n    </td>\n    \n</tr>\n        \n            <tr style=\"background-color: hsl(0, 100.00%, 91.17%); border: none;\">\n    <td style=\"padding: 0 1em 0 0.5em; text-align: right; border: none;\">\n        -3.281\n    </td>\n    <td style=\"padding: 0 0.5em 0 0.5em; text-align: left; border: none;\">\n        безответственный\n    </td>\n    \n</tr>\n        \n            <tr style=\"background-color: hsl(0, 100.00%, 91.15%); border: none;\">\n    <td style=\"padding: 0 1em 0 0.5em; text-align: right; border: none;\">\n        -3.289\n    </td>\n    <td style=\"padding: 0 0.5em 0 0.5em; text-align: left; border: none;\">\n        разговор\n    </td>\n    \n</tr>\n        \n            <tr style=\"background-color: hsl(0, 100.00%, 91.11%); border: none;\">\n    <td style=\"padding: 0 1em 0 0.5em; text-align: right; border: none;\">\n        -3.315\n    </td>\n    <td style=\"padding: 0 0.5em 0 0.5em; text-align: left; border: none;\">\n        конкретный\n    </td>\n    \n</tr>\n        \n            <tr style=\"background-color: hsl(0, 100.00%, 91.07%); border: none;\">\n    <td style=\"padding: 0 1em 0 0.5em; text-align: right; border: none;\">\n        -3.333\n    </td>\n    <td style=\"padding: 0 0.5em 0 0.5em; text-align: left; border: none;\">\n        пожелание делать\n    </td>\n    \n</tr>\n        \n            <tr style=\"background-color: hsl(0, 100.00%, 91.00%); border: none;\">\n    <td style=\"padding: 0 1em 0 0.5em; text-align: right; border: none;\">\n        -3.372\n    </td>\n    <td style=\"padding: 0 0.5em 0 0.5em; text-align: left; border: none;\">\n        данный специалист\n    </td>\n    \n</tr>\n        \n            <tr style=\"background-color: hsl(0, 100.00%, 90.95%); border: none;\">\n    <td style=\"padding: 0 1em 0 0.5em; text-align: right; border: none;\">\n        -3.398\n    </td>\n    <td style=\"padding: 0 0.5em 0 0.5em; text-align: left; border: none;\">\n        телефон\n    </td>\n    \n</tr>\n        \n            <tr style=\"background-color: hsl(0, 100.00%, 90.91%); border: none;\">\n    <td style=\"padding: 0 1em 0 0.5em; text-align: right; border: none;\">\n        -3.418\n    </td>\n    <td style=\"padding: 0 0.5em 0 0.5em; text-align: left; border: none;\">\n        аккуратно сделать\n    </td>\n    \n</tr>\n        \n            <tr style=\"background-color: hsl(0, 100.00%, 90.79%); border: none;\">\n    <td style=\"padding: 0 1em 0 0.5em; text-align: right; border: none;\">\n        -3.485\n    </td>\n    <td style=\"padding: 0 0.5em 0 0.5em; text-align: left; border: none;\">\n        клиентоориентированный\n    </td>\n    \n</tr>\n        \n            <tr style=\"background-color: hsl(0, 100.00%, 90.68%); border: none;\">\n    <td style=\"padding: 0 1em 0 0.5em; text-align: right; border: none;\">\n        -3.545\n    </td>\n    <td style=\"padding: 0 0.5em 0 0.5em; text-align: left; border: none;\">\n        относиться\n    </td>\n    \n</tr>\n        \n            <tr style=\"background-color: hsl(0, 100.00%, 90.52%); border: none;\">\n    <td style=\"padding: 0 1em 0 0.5em; text-align: right; border: none;\">\n        -3.630\n    </td>\n    <td style=\"padding: 0 0.5em 0 0.5em; text-align: left; border: none;\">\n        работа устраивать\n    </td>\n    \n</tr>\n        \n            <tr style=\"background-color: hsl(0, 100.00%, 90.44%); border: none;\">\n    <td style=\"padding: 0 1em 0 0.5em; text-align: right; border: none;\">\n        -3.677\n    </td>\n    <td style=\"padding: 0 0.5em 0 0.5em; text-align: left; border: none;\">\n        диалог\n    </td>\n    \n</tr>\n        \n            <tr style=\"background-color: hsl(0, 100.00%, 90.30%); border: none;\">\n    <td style=\"padding: 0 1em 0 0.5em; text-align: right; border: none;\">\n        -3.750\n    </td>\n    <td style=\"padding: 0 0.5em 0 0.5em; text-align: left; border: none;\">\n        создание\n    </td>\n    \n</tr>\n        \n            <tr style=\"background-color: hsl(0, 100.00%, 90.27%); border: none;\">\n    <td style=\"padding: 0 1em 0 0.5em; text-align: right; border: none;\">\n        -3.768\n    </td>\n    <td style=\"padding: 0 0.5em 0 0.5em; text-align: left; border: none;\">\n        определять\n    </td>\n    \n</tr>\n        \n            <tr style=\"background-color: hsl(0, 100.00%, 90.14%); border: none;\">\n    <td style=\"padding: 0 1em 0 0.5em; text-align: right; border: none;\">\n        -3.843\n    </td>\n    <td style=\"padding: 0 0.5em 0 0.5em; text-align: left; border: none;\">\n        специалист внимательный\n    </td>\n    \n</tr>\n        \n            <tr style=\"background-color: hsl(0, 100.00%, 90.00%); border: none;\">\n    <td style=\"padding: 0 1em 0 0.5em; text-align: right; border: none;\">\n        -3.917\n    </td>\n    <td style=\"padding: 0 0.5em 0 0.5em; text-align: left; border: none;\">\n        желание клиент\n    </td>\n    \n</tr>\n        \n            <tr style=\"background-color: hsl(0, 100.00%, 89.75%); border: none;\">\n    <td style=\"padding: 0 1em 0 0.5em; text-align: right; border: none;\">\n        -4.062\n    </td>\n    <td style=\"padding: 0 0.5em 0 0.5em; text-align: left; border: none;\">\n        смочь\n    </td>\n    \n</tr>\n        \n            <tr style=\"background-color: hsl(0, 100.00%, 88.81%); border: none;\">\n    <td style=\"padding: 0 1em 0 0.5em; text-align: right; border: none;\">\n        -4.604\n    </td>\n    <td style=\"padding: 0 0.5em 0 0.5em; text-align: left; border: none;\">\n        портфолио\n    </td>\n    \n</tr>\n        \n            <tr style=\"background-color: hsl(0, 100.00%, 88.72%); border: none;\">\n    <td style=\"padding: 0 1em 0 0.5em; text-align: right; border: none;\">\n        -4.653\n    </td>\n    <td style=\"padding: 0 0.5em 0 0.5em; text-align: left; border: none;\">\n        относиться работа\n    </td>\n    \n</tr>\n        \n            <tr style=\"background-color: hsl(0, 100.00%, 88.59%); border: none;\">\n    <td style=\"padding: 0 1em 0 0.5em; text-align: right; border: none;\">\n        -4.733\n    </td>\n    <td style=\"padding: 0 0.5em 0 0.5em; text-align: left; border: none;\">\n        работа специалист\n    </td>\n    \n</tr>\n        \n            <tr style=\"background-color: hsl(0, 100.00%, 88.51%); border: none;\">\n    <td style=\"padding: 0 1em 0 0.5em; text-align: right; border: none;\">\n        -4.782\n    </td>\n    <td style=\"padding: 0 0.5em 0 0.5em; text-align: left; border: none;\">\n        факт\n    </td>\n    \n</tr>\n        \n            <tr style=\"background-color: hsl(0, 100.00%, 88.43%); border: none;\">\n    <td style=\"padding: 0 1em 0 0.5em; text-align: right; border: none;\">\n        -4.830\n    </td>\n    <td style=\"padding: 0 0.5em 0 0.5em; text-align: left; border: none;\">\n        человек сделать\n    </td>\n    \n</tr>\n        \n            <tr style=\"background-color: hsl(0, 100.00%, 88.13%); border: none;\">\n    <td style=\"padding: 0 1em 0 0.5em; text-align: right; border: none;\">\n        -5.008\n    </td>\n    <td style=\"padding: 0 0.5em 0 0.5em; text-align: left; border: none;\">\n        специалист рекомендовать\n    </td>\n    \n</tr>\n        \n            <tr style=\"background-color: hsl(0, 100.00%, 87.85%); border: none;\">\n    <td style=\"padding: 0 1em 0 0.5em; text-align: right; border: none;\">\n        -5.177\n    </td>\n    <td style=\"padding: 0 0.5em 0 0.5em; text-align: left; border: none;\">\n        предоплата\n    </td>\n    \n</tr>\n        \n            <tr style=\"background-color: hsl(0, 100.00%, 87.85%); border: none;\">\n    <td style=\"padding: 0 1em 0 0.5em; text-align: right; border: none;\">\n        -5.178\n    </td>\n    <td style=\"padding: 0 0.5em 0 0.5em; text-align: left; border: none;\">\n        неплохо\n    </td>\n    \n</tr>\n        \n            <tr style=\"background-color: hsl(0, 100.00%, 87.44%); border: none;\">\n    <td style=\"padding: 0 1em 0 0.5em; text-align: right; border: none;\">\n        -5.431\n    </td>\n    <td style=\"padding: 0 0.5em 0 0.5em; text-align: left; border: none;\">\n        задержка\n    </td>\n    \n</tr>\n        \n            <tr style=\"background-color: hsl(0, 100.00%, 87.22%); border: none;\">\n    <td style=\"padding: 0 1em 0 0.5em; text-align: right; border: none;\">\n        -5.563\n    </td>\n    <td style=\"padding: 0 0.5em 0 0.5em; text-align: left; border: none;\">\n        задача давать\n    </td>\n    \n</tr>\n        \n            <tr style=\"background-color: hsl(0, 100.00%, 86.20%); border: none;\">\n    <td style=\"padding: 0 1em 0 0.5em; text-align: right; border: none;\">\n        -6.208\n    </td>\n    <td style=\"padding: 0 0.5em 0 0.5em; text-align: left; border: none;\">\n        ничто\n    </td>\n    \n</tr>\n        \n            <tr style=\"background-color: hsl(0, 100.00%, 86.10%); border: none;\">\n    <td style=\"padding: 0 1em 0 0.5em; text-align: right; border: none;\">\n        -6.277\n    </td>\n    <td style=\"padding: 0 0.5em 0 0.5em; text-align: left; border: none;\">\n        свой работа сделать\n    </td>\n    \n</tr>\n        \n            <tr style=\"background-color: hsl(0, 100.00%, 85.24%); border: none;\">\n    <td style=\"padding: 0 1em 0 0.5em; text-align: right; border: none;\">\n        -6.837\n    </td>\n    <td style=\"padding: 0 0.5em 0 0.5em; text-align: left; border: none;\">\n        спасибо сотрудничество\n    </td>\n    \n</tr>\n        \n            <tr style=\"background-color: hsl(0, 100.00%, 83.82%); border: none;\">\n    <td style=\"padding: 0 1em 0 0.5em; text-align: right; border: none;\">\n        -7.795\n    </td>\n    <td style=\"padding: 0 0.5em 0 0.5em; text-align: left; border: none;\">\n        пропадать\n    </td>\n    \n</tr>\n        \n            <tr style=\"background-color: hsl(0, 100.00%, 83.18%); border: none;\">\n    <td style=\"padding: 0 1em 0 0.5em; text-align: right; border: none;\">\n        -8.235\n    </td>\n    <td style=\"padding: 0 0.5em 0 0.5em; text-align: left; border: none;\">\n        консультация\n    </td>\n    \n</tr>\n        \n            <tr style=\"background-color: hsl(0, 100.00%, 82.14%); border: none;\">\n    <td style=\"padding: 0 1em 0 0.5em; text-align: right; border: none;\">\n        -8.976\n    </td>\n    <td style=\"padding: 0 0.5em 0 0.5em; text-align: left; border: none;\">\n        никак\n    </td>\n    \n</tr>\n        \n\n        </tbody>\n    </table>\n\n            \n        \n\n        \n\n\n\n    \n\n    \n\n    \n\n    \n\n\n    \n\n    \n\n    \n\n    \n\n    \n\n    \n\n\n    \n\n    \n\n    \n\n    \n\n    \n\n    \n\n\n\n"
     },
     "execution_count": 57,
     "metadata": {},
     "output_type": "execute_result"
    }
   ],
   "source": [
    "eli5.sklearn.explain_weights_sklearn(log_m, vec=vec_mb, top=100)"
   ],
   "metadata": {
    "collapsed": false,
    "pycharm": {
     "name": "#%%\n"
    }
   }
  },
  {
   "cell_type": "code",
   "execution_count": 58,
   "outputs": [],
   "source": [
    "vec_fb = TfidfVectorizer(ngram_range=(1, 3), max_features=10000)\n",
    "vec_train_fb = vec_fb.fit_transform(x_train_fb)\n",
    "vec_test_fb = vec_fb.transform(x_test_fb)\n",
    "\n",
    "\n",
    "scaler_fb = MaxAbsScaler()\n",
    "vec_train_fb = scaler_fb.fit_transform(vec_train_fb)\n",
    "vec_test_fb = scaler_fb.transform(vec_test_fb)"
   ],
   "metadata": {
    "collapsed": false,
    "pycharm": {
     "name": "#%%\n"
    }
   }
  },
  {
   "cell_type": "code",
   "execution_count": 59,
   "outputs": [
    {
     "data": {
      "text/plain": "GridSearchCV(cv=5, estimator=LogisticRegression(),\n             param_grid={'C': array([1.e-03, 1.e-02, 1.e-01, 1.e+00, 1.e+01, 1.e+02, 1.e+03]),\n                         'penalty': ['l1', 'l2', None],\n                         'solver': ['lbfgs', 'liblinear']})"
     },
     "execution_count": 59,
     "metadata": {},
     "output_type": "execute_result"
    }
   ],
   "source": [
    "logreg_f = LogisticRegression()\n",
    "logreg_cv_f = GridSearchCV(logreg_f, grid, cv=5)\n",
    "logreg_cv_f.fit(vec_train_fb, y_train_fb)"
   ],
   "metadata": {
    "collapsed": false,
    "pycharm": {
     "name": "#%%\n"
    }
   }
  },
  {
   "cell_type": "code",
   "execution_count": 60,
   "outputs": [
    {
     "data": {
      "text/plain": "{'C': 10.0, 'penalty': 'l2', 'solver': 'lbfgs'}"
     },
     "execution_count": 60,
     "metadata": {},
     "output_type": "execute_result"
    }
   ],
   "source": [
    "logreg_cv_f.best_params_"
   ],
   "metadata": {
    "collapsed": false,
    "pycharm": {
     "name": "#%%\n"
    }
   }
  },
  {
   "cell_type": "code",
   "execution_count": 61,
   "outputs": [],
   "source": [
    "log_f = LogisticRegression(C=10, penalty='l2', solver='lbfgs')\n",
    "log_f.fit(vec_train_fb, y_train_fb)\n",
    "preds_fb = log_f.predict(vec_test_fb)"
   ],
   "metadata": {
    "collapsed": false,
    "pycharm": {
     "name": "#%%\n"
    }
   }
  },
  {
   "cell_type": "code",
   "execution_count": 62,
   "outputs": [
    {
     "name": "stdout",
     "output_type": "stream",
     "text": [
      "              precision    recall  f1-score   support\n",
      "\n",
      "           0       0.63      0.98      0.77        52\n",
      "           1       1.00      0.98      0.99      1332\n",
      "\n",
      "    accuracy                           0.98      1384\n",
      "   macro avg       0.81      0.98      0.88      1384\n",
      "weighted avg       0.99      0.98      0.98      1384\n",
      "\n"
     ]
    }
   ],
   "source": [
    "print(classification_report(preds_fb, y_test_fb))"
   ],
   "metadata": {
    "collapsed": false,
    "pycharm": {
     "name": "#%%\n"
    }
   }
  },
  {
   "cell_type": "code",
   "execution_count": 63,
   "outputs": [
    {
     "data": {
      "text/plain": "Explanation(estimator='LogisticRegression(C=10)', description=\"\\nFeatures with largest coefficients.\\nCaveats:\\n1. Be careful with features which are not\\n   independent - weights don't show their importance.\\n2. If scale of input features is different then scale of coefficients\\n   will also be different, making direct comparison between coefficient values\\n   incorrect.\\n3. Depending on regularization, rare features sometimes may have high\\n   coefficients; this doesn't mean they contribute much to the\\n   classification result for most examples.\\n\", error=None, method='linear model', is_regression=False, targets=[TargetExplanation(target=1, feature_weights=FeatureWeights(pos=[FeatureWeight(feature='спасибо', weight=3.9451725682891117, std=None, value=None), FeatureWeight(feature='очень', weight=3.5033199336906895, std=None, value=None), FeatureWeight(feature='качественно', weight=3.4748021823486126, std=None, value=None), FeatureWeight(feature='отлично', weight=3.2464614713181925, std=None, value=None), FeatureWeight(feature='рекомендовать', weight=3.196019630823152, std=None, value=None), FeatureWeight(feature='отличный', weight=3.0865662574140518, std=None, value=None), FeatureWeight(feature='<BIAS>', weight=2.6944853601841166, std=None, value=None), FeatureWeight(feature='работа', weight=2.668485979347344, std=None, value=None), FeatureWeight(feature='весь', weight=2.4210389842449307, std=None, value=None), FeatureWeight(feature='оперативно', weight=2.3217682388515626, std=None, value=None), FeatureWeight(feature='обращаться', weight=2.037774214414646, std=None, value=None), FeatureWeight(feature='большой', weight=1.923386094204173, std=None, value=None), FeatureWeight(feature='очень понравиться', weight=1.8744875868192183, std=None, value=None), FeatureWeight(feature='дело', weight=1.8309199652183368, std=None, value=None), FeatureWeight(feature='хороший специалист', weight=1.6893367045616532, std=None, value=None), FeatureWeight(feature='быстро качественно', weight=1.6323760525296367, std=None, value=None), FeatureWeight(feature='приятный', weight=1.5677950051655032, std=None, value=None), FeatureWeight(feature='выполнять', weight=1.5469317544832375, std=None, value=None), FeatureWeight(feature='молодец', weight=1.5356228091672237, std=None, value=None), FeatureWeight(feature='прекрасный', weight=1.5314251228408704, std=None, value=None), FeatureWeight(feature='пожелание', weight=1.4666428742551978, std=None, value=None), FeatureWeight(feature='свой', weight=1.4581409445583107, std=None, value=None), FeatureWeight(feature='сотрудничество', weight=1.4454237937867378, std=None, value=None), FeatureWeight(feature='легко', weight=1.4253061882662608, std=None, value=None), FeatureWeight(feature='замечательный', weight=1.4215052428188037, std=None, value=None), FeatureWeight(feature='нужно', weight=1.4071792903287335, std=None, value=None), FeatureWeight(feature='проходить', weight=1.3959768864631295, std=None, value=None), FeatureWeight(feature='ребенок', weight=1.3903456614323317, std=None, value=None), FeatureWeight(feature='очень быстро', weight=1.3647493622852664, std=None, value=None), FeatureWeight(feature='качество', weight=1.3323856389255473, std=None, value=None)], neg=[FeatureWeight(feature='пунктуальность', weight=-4.188295353170086, std=None, value=None), FeatureWeight(feature='замечание', weight=-3.7743381489966663, std=None, value=None), FeatureWeight(feature='маникюр', weight=-3.3384954550814196, std=None, value=None), FeatureWeight(feature='срабатываться', weight=-3.3095156585866725, std=None, value=None), FeatureWeight(feature='приходиться', weight=-3.3014934308855906, std=None, value=None), FeatureWeight(feature='оценка', weight=-3.232953233545374, std=None, value=None), FeatureWeight(feature='результат получать', weight=-3.1547348773100694, std=None, value=None), FeatureWeight(feature='аккуратно', weight=-3.1256324523080488, std=None, value=None), FeatureWeight(feature='некомпетентный', weight=-2.9922802854909873, std=None, value=None), FeatureWeight(feature='порядочный', weight=-2.925823473319521, std=None, value=None), FeatureWeight(feature='ссылка', weight=-2.7621923151341443, std=None, value=None), FeatureWeight(feature='недорого', weight=-2.7458390577123306, std=None, value=None), FeatureWeight(feature='сожаление', weight=-2.680092813062238, std=None, value=None), FeatureWeight(feature='целое', weight=-2.629309864780403, std=None, value=None), FeatureWeight(feature='логотип', weight=-2.564727775469787, std=None, value=None), FeatureWeight(feature='отказываться', weight=-2.524855928265558, std=None, value=None), FeatureWeight(feature='обещать', weight=-2.504765961711218, std=None, value=None), FeatureWeight(feature='общение', weight=-2.4137014504523058, std=None, value=None), FeatureWeight(feature='хотя', weight=-2.3227148471991925, std=None, value=None), FeatureWeight(feature='дизайн подходить', weight=-2.2663898154529782, std=None, value=None), FeatureWeight(feature='нормальный', weight=-2.21454320894393, std=None, value=None), FeatureWeight(feature='подводить', weight=-2.1723009406267924, std=None, value=None), FeatureWeight(feature='пропадать', weight=-2.168729716181955, std=None, value=None), FeatureWeight(feature='отвратительно', weight=-2.1599189776346717, std=None, value=None), FeatureWeight(feature='срок выполнение', weight=-2.1044510078121785, std=None, value=None), FeatureWeight(feature='слово', weight=-1.9993244582491865, std=None, value=None), FeatureWeight(feature='соответствие задание', weight=-1.9790801625823367, std=None, value=None), FeatureWeight(feature='потратить', weight=-1.9320097886235195, std=None, value=None), FeatureWeight(feature='выходить', weight=-1.9162335055043296, std=None, value=None), FeatureWeight(feature='профессиональный подход', weight=-1.907795581315933, std=None, value=None), FeatureWeight(feature='ответственно', weight=-1.819090059564297, std=None, value=None), FeatureWeight(feature='детальный', weight=-1.7932336708019794, std=None, value=None), FeatureWeight(feature='деньги', weight=-1.7751245925306338, std=None, value=None), FeatureWeight(feature='бриф', weight=-1.7704384981701984, std=None, value=None), FeatureWeight(feature='оплата', weight=-1.754500064020641, std=None, value=None), FeatureWeight(feature='итог', weight=-1.7415123436071966, std=None, value=None), FeatureWeight(feature='предупреждать', weight=-1.7312632830198098, std=None, value=None), FeatureWeight(feature='работать быстро', weight=-1.7218589038169931, std=None, value=None), FeatureWeight(feature='поздно', weight=-1.6540165490171417, std=None, value=None), FeatureWeight(feature='взять', weight=-1.6533660724343604, std=None, value=None), FeatureWeight(feature='обещание', weight=-1.6136332606441375, std=None, value=None), FeatureWeight(feature='заплатить', weight=-1.6012015201577956, std=None, value=None), FeatureWeight(feature='30', weight=-1.6002854409420098, std=None, value=None), FeatureWeight(feature='трата', weight=-1.5923126240565146, std=None, value=None), FeatureWeight(feature='приезжать вовремя', weight=-1.589630995055304, std=None, value=None), FeatureWeight(feature='привозить', weight=-1.5803523870095297, std=None, value=None), FeatureWeight(feature='делать', weight=-1.5714014008857031, std=None, value=None), FeatureWeight(feature='обязательство', weight=-1.5659719447582698, std=None, value=None), FeatureWeight(feature='работа выполнение', weight=-1.5583916925739776, std=None, value=None), FeatureWeight(feature='отвечать', weight=-1.542610965074986, std=None, value=None), FeatureWeight(feature='день', weight=-1.5422371142859443, std=None, value=None), FeatureWeight(feature='получать', weight=-1.5377394399234015, std=None, value=None), FeatureWeight(feature='специалист справляться', weight=-1.5373289342172305, std=None, value=None), FeatureWeight(feature='пустой', weight=-1.5290979696457607, std=None, value=None), FeatureWeight(feature='обращаться специалист', weight=-1.493390156968166, std=None, value=None), FeatureWeight(feature='указывать', weight=-1.4919074549973084, std=None, value=None), FeatureWeight(feature='неделя', weight=-1.469382776337343, std=None, value=None), FeatureWeight(feature='трубка', weight=-1.467558937071333, std=None, value=None), FeatureWeight(feature='обязательный весь', weight=-1.4440559314018697, std=None, value=None), FeatureWeight(feature='обязательный весь привозить', weight=-1.4440559314018697, std=None, value=None), FeatureWeight(feature='плохо', weight=-1.4154927735320018, std=None, value=None), FeatureWeight(feature='сделать рекомендовать', weight=-1.4092158092104872, std=None, value=None), FeatureWeight(feature='специалист готовый', weight=-1.4072908614257775, std=None, value=None), FeatureWeight(feature='человек', weight=-1.3983980523058304, std=None, value=None), FeatureWeight(feature='услуга', weight=-1.3964787179784643, std=None, value=None), FeatureWeight(feature='завышать', weight=-1.3737303770788316, std=None, value=None), FeatureWeight(feature='норма', weight=-1.367409761152426, std=None, value=None), FeatureWeight(feature='скайп', weight=-1.361812632899595, std=None, value=None), FeatureWeight(feature='готовый', weight=-1.335637062817086, std=None, value=None), FeatureWeight(feature='потерять', weight=-1.3131920213876183, std=None, value=None)], pos_remaining=8655, neg_remaining=1246), proba=None, score=None, weighted_spans=None, heatmap=None)], feature_importances=None, decision_tree=None, highlight_spaces=None, transition_features=None, image=None)",
      "text/html": "\n    <style>\n    table.eli5-weights tr:hover {\n        filter: brightness(85%);\n    }\n</style>\n\n\n\n    \n\n    \n\n    \n\n    \n\n    \n\n    \n\n\n    \n\n    \n\n    \n\n    \n        \n\n    \n\n        \n            \n                \n                \n    \n        <p style=\"margin-bottom: 0.5em; margin-top: 0em\">\n            <b>\n    \n        y=1\n    \n</b>\n\ntop features\n        </p>\n    \n    <table class=\"eli5-weights\"\n           style=\"border-collapse: collapse; border: none; margin-top: 0em; table-layout: auto; margin-bottom: 2em;\">\n        <thead>\n        <tr style=\"border: none;\">\n            \n                <th style=\"padding: 0 1em 0 0.5em; text-align: right; border: none;\" title=\"Feature weights. Note that weights do not account for feature value scales, so if feature values have different scales, features with highest weights might not be the most important.\">\n                    Weight<sup>?</sup>\n                </th>\n            \n            <th style=\"padding: 0 0.5em 0 0.5em; text-align: left; border: none;\">Feature</th>\n            \n        </tr>\n        </thead>\n        <tbody>\n        \n            <tr style=\"background-color: hsl(120, 100.00%, 80.82%); border: none;\">\n    <td style=\"padding: 0 1em 0 0.5em; text-align: right; border: none;\">\n        +3.945\n    </td>\n    <td style=\"padding: 0 0.5em 0 0.5em; text-align: left; border: none;\">\n        спасибо\n    </td>\n    \n</tr>\n        \n            <tr style=\"background-color: hsl(120, 100.00%, 82.35%); border: none;\">\n    <td style=\"padding: 0 1em 0 0.5em; text-align: right; border: none;\">\n        +3.503\n    </td>\n    <td style=\"padding: 0 0.5em 0 0.5em; text-align: left; border: none;\">\n        очень\n    </td>\n    \n</tr>\n        \n            <tr style=\"background-color: hsl(120, 100.00%, 82.45%); border: none;\">\n    <td style=\"padding: 0 1em 0 0.5em; text-align: right; border: none;\">\n        +3.475\n    </td>\n    <td style=\"padding: 0 0.5em 0 0.5em; text-align: left; border: none;\">\n        качественно\n    </td>\n    \n</tr>\n        \n            <tr style=\"background-color: hsl(120, 100.00%, 83.27%); border: none;\">\n    <td style=\"padding: 0 1em 0 0.5em; text-align: right; border: none;\">\n        +3.246\n    </td>\n    <td style=\"padding: 0 0.5em 0 0.5em; text-align: left; border: none;\">\n        отлично\n    </td>\n    \n</tr>\n        \n            <tr style=\"background-color: hsl(120, 100.00%, 83.45%); border: none;\">\n    <td style=\"padding: 0 1em 0 0.5em; text-align: right; border: none;\">\n        +3.196\n    </td>\n    <td style=\"padding: 0 0.5em 0 0.5em; text-align: left; border: none;\">\n        рекомендовать\n    </td>\n    \n</tr>\n        \n            <tr style=\"background-color: hsl(120, 100.00%, 83.85%); border: none;\">\n    <td style=\"padding: 0 1em 0 0.5em; text-align: right; border: none;\">\n        +3.087\n    </td>\n    <td style=\"padding: 0 0.5em 0 0.5em; text-align: left; border: none;\">\n        отличный\n    </td>\n    \n</tr>\n        \n            <tr style=\"background-color: hsl(120, 100.00%, 85.31%); border: none;\">\n    <td style=\"padding: 0 1em 0 0.5em; text-align: right; border: none;\">\n        +2.694\n    </td>\n    <td style=\"padding: 0 0.5em 0 0.5em; text-align: left; border: none;\">\n        &lt;BIAS&gt;\n    </td>\n    \n</tr>\n        \n            <tr style=\"background-color: hsl(120, 100.00%, 85.41%); border: none;\">\n    <td style=\"padding: 0 1em 0 0.5em; text-align: right; border: none;\">\n        +2.668\n    </td>\n    <td style=\"padding: 0 0.5em 0 0.5em; text-align: left; border: none;\">\n        работа\n    </td>\n    \n</tr>\n        \n            <tr style=\"background-color: hsl(120, 100.00%, 86.37%); border: none;\">\n    <td style=\"padding: 0 1em 0 0.5em; text-align: right; border: none;\">\n        +2.421\n    </td>\n    <td style=\"padding: 0 0.5em 0 0.5em; text-align: left; border: none;\">\n        весь\n    </td>\n    \n</tr>\n        \n            <tr style=\"background-color: hsl(120, 100.00%, 86.77%); border: none;\">\n    <td style=\"padding: 0 1em 0 0.5em; text-align: right; border: none;\">\n        +2.322\n    </td>\n    <td style=\"padding: 0 0.5em 0 0.5em; text-align: left; border: none;\">\n        оперативно\n    </td>\n    \n</tr>\n        \n            <tr style=\"background-color: hsl(120, 100.00%, 87.92%); border: none;\">\n    <td style=\"padding: 0 1em 0 0.5em; text-align: right; border: none;\">\n        +2.038\n    </td>\n    <td style=\"padding: 0 0.5em 0 0.5em; text-align: left; border: none;\">\n        обращаться\n    </td>\n    \n</tr>\n        \n            <tr style=\"background-color: hsl(120, 100.00%, 88.40%); border: none;\">\n    <td style=\"padding: 0 1em 0 0.5em; text-align: right; border: none;\">\n        +1.923\n    </td>\n    <td style=\"padding: 0 0.5em 0 0.5em; text-align: left; border: none;\">\n        большой\n    </td>\n    \n</tr>\n        \n            <tr style=\"background-color: hsl(120, 100.00%, 88.61%); border: none;\">\n    <td style=\"padding: 0 1em 0 0.5em; text-align: right; border: none;\">\n        +1.874\n    </td>\n    <td style=\"padding: 0 0.5em 0 0.5em; text-align: left; border: none;\">\n        очень понравиться\n    </td>\n    \n</tr>\n        \n            <tr style=\"background-color: hsl(120, 100.00%, 88.79%); border: none;\">\n    <td style=\"padding: 0 1em 0 0.5em; text-align: right; border: none;\">\n        +1.831\n    </td>\n    <td style=\"padding: 0 0.5em 0 0.5em; text-align: left; border: none;\">\n        дело\n    </td>\n    \n</tr>\n        \n            <tr style=\"background-color: hsl(120, 100.00%, 89.41%); border: none;\">\n    <td style=\"padding: 0 1em 0 0.5em; text-align: right; border: none;\">\n        +1.689\n    </td>\n    <td style=\"padding: 0 0.5em 0 0.5em; text-align: left; border: none;\">\n        хороший специалист\n    </td>\n    \n</tr>\n        \n            <tr style=\"background-color: hsl(120, 100.00%, 89.66%); border: none;\">\n    <td style=\"padding: 0 1em 0 0.5em; text-align: right; border: none;\">\n        +1.632\n    </td>\n    <td style=\"padding: 0 0.5em 0 0.5em; text-align: left; border: none;\">\n        быстро качественно\n    </td>\n    \n</tr>\n        \n            <tr style=\"background-color: hsl(120, 100.00%, 89.95%); border: none;\">\n    <td style=\"padding: 0 1em 0 0.5em; text-align: right; border: none;\">\n        +1.568\n    </td>\n    <td style=\"padding: 0 0.5em 0 0.5em; text-align: left; border: none;\">\n        приятный\n    </td>\n    \n</tr>\n        \n            <tr style=\"background-color: hsl(120, 100.00%, 90.04%); border: none;\">\n    <td style=\"padding: 0 1em 0 0.5em; text-align: right; border: none;\">\n        +1.547\n    </td>\n    <td style=\"padding: 0 0.5em 0 0.5em; text-align: left; border: none;\">\n        выполнять\n    </td>\n    \n</tr>\n        \n            <tr style=\"background-color: hsl(120, 100.00%, 90.09%); border: none;\">\n    <td style=\"padding: 0 1em 0 0.5em; text-align: right; border: none;\">\n        +1.536\n    </td>\n    <td style=\"padding: 0 0.5em 0 0.5em; text-align: left; border: none;\">\n        молодец\n    </td>\n    \n</tr>\n        \n            <tr style=\"background-color: hsl(120, 100.00%, 90.11%); border: none;\">\n    <td style=\"padding: 0 1em 0 0.5em; text-align: right; border: none;\">\n        +1.531\n    </td>\n    <td style=\"padding: 0 0.5em 0 0.5em; text-align: left; border: none;\">\n        прекрасный\n    </td>\n    \n</tr>\n        \n            <tr style=\"background-color: hsl(120, 100.00%, 90.41%); border: none;\">\n    <td style=\"padding: 0 1em 0 0.5em; text-align: right; border: none;\">\n        +1.467\n    </td>\n    <td style=\"padding: 0 0.5em 0 0.5em; text-align: left; border: none;\">\n        пожелание\n    </td>\n    \n</tr>\n        \n            <tr style=\"background-color: hsl(120, 100.00%, 90.44%); border: none;\">\n    <td style=\"padding: 0 1em 0 0.5em; text-align: right; border: none;\">\n        +1.458\n    </td>\n    <td style=\"padding: 0 0.5em 0 0.5em; text-align: left; border: none;\">\n        свой\n    </td>\n    \n</tr>\n        \n            <tr style=\"background-color: hsl(120, 100.00%, 90.50%); border: none;\">\n    <td style=\"padding: 0 1em 0 0.5em; text-align: right; border: none;\">\n        +1.445\n    </td>\n    <td style=\"padding: 0 0.5em 0 0.5em; text-align: left; border: none;\">\n        сотрудничество\n    </td>\n    \n</tr>\n        \n            <tr style=\"background-color: hsl(120, 100.00%, 90.60%); border: none;\">\n    <td style=\"padding: 0 1em 0 0.5em; text-align: right; border: none;\">\n        +1.425\n    </td>\n    <td style=\"padding: 0 0.5em 0 0.5em; text-align: left; border: none;\">\n        легко\n    </td>\n    \n</tr>\n        \n            <tr style=\"background-color: hsl(120, 100.00%, 90.61%); border: none;\">\n    <td style=\"padding: 0 1em 0 0.5em; text-align: right; border: none;\">\n        +1.422\n    </td>\n    <td style=\"padding: 0 0.5em 0 0.5em; text-align: left; border: none;\">\n        замечательный\n    </td>\n    \n</tr>\n        \n            <tr style=\"background-color: hsl(120, 100.00%, 90.68%); border: none;\">\n    <td style=\"padding: 0 1em 0 0.5em; text-align: right; border: none;\">\n        +1.407\n    </td>\n    <td style=\"padding: 0 0.5em 0 0.5em; text-align: left; border: none;\">\n        нужно\n    </td>\n    \n</tr>\n        \n            <tr style=\"background-color: hsl(120, 100.00%, 90.73%); border: none;\">\n    <td style=\"padding: 0 1em 0 0.5em; text-align: right; border: none;\">\n        +1.396\n    </td>\n    <td style=\"padding: 0 0.5em 0 0.5em; text-align: left; border: none;\">\n        проходить\n    </td>\n    \n</tr>\n        \n            <tr style=\"background-color: hsl(120, 100.00%, 90.76%); border: none;\">\n    <td style=\"padding: 0 1em 0 0.5em; text-align: right; border: none;\">\n        +1.390\n    </td>\n    <td style=\"padding: 0 0.5em 0 0.5em; text-align: left; border: none;\">\n        ребенок\n    </td>\n    \n</tr>\n        \n            <tr style=\"background-color: hsl(120, 100.00%, 90.88%); border: none;\">\n    <td style=\"padding: 0 1em 0 0.5em; text-align: right; border: none;\">\n        +1.365\n    </td>\n    <td style=\"padding: 0 0.5em 0 0.5em; text-align: left; border: none;\">\n        очень быстро\n    </td>\n    \n</tr>\n        \n            <tr style=\"background-color: hsl(120, 100.00%, 91.03%); border: none;\">\n    <td style=\"padding: 0 1em 0 0.5em; text-align: right; border: none;\">\n        +1.332\n    </td>\n    <td style=\"padding: 0 0.5em 0 0.5em; text-align: left; border: none;\">\n        качество\n    </td>\n    \n</tr>\n        \n        \n            <tr style=\"background-color: hsl(120, 100.00%, 91.03%); border: none;\">\n                <td colspan=\"2\" style=\"padding: 0 0.5em 0 0.5em; text-align: center; border: none; white-space: nowrap;\">\n                    <i>&hellip; 8655 more positive &hellip;</i>\n                </td>\n            </tr>\n        \n\n        \n            <tr style=\"background-color: hsl(0, 100.00%, 91.12%); border: none;\">\n                <td colspan=\"2\" style=\"padding: 0 0.5em 0 0.5em; text-align: center; border: none; white-space: nowrap;\">\n                    <i>&hellip; 1246 more negative &hellip;</i>\n                </td>\n            </tr>\n        \n        \n            <tr style=\"background-color: hsl(0, 100.00%, 91.12%); border: none;\">\n    <td style=\"padding: 0 1em 0 0.5em; text-align: right; border: none;\">\n        -1.313\n    </td>\n    <td style=\"padding: 0 0.5em 0 0.5em; text-align: left; border: none;\">\n        потерять\n    </td>\n    \n</tr>\n        \n            <tr style=\"background-color: hsl(0, 100.00%, 91.01%); border: none;\">\n    <td style=\"padding: 0 1em 0 0.5em; text-align: right; border: none;\">\n        -1.336\n    </td>\n    <td style=\"padding: 0 0.5em 0 0.5em; text-align: left; border: none;\">\n        готовый\n    </td>\n    \n</tr>\n        \n            <tr style=\"background-color: hsl(0, 100.00%, 90.89%); border: none;\">\n    <td style=\"padding: 0 1em 0 0.5em; text-align: right; border: none;\">\n        -1.362\n    </td>\n    <td style=\"padding: 0 0.5em 0 0.5em; text-align: left; border: none;\">\n        скайп\n    </td>\n    \n</tr>\n        \n            <tr style=\"background-color: hsl(0, 100.00%, 90.86%); border: none;\">\n    <td style=\"padding: 0 1em 0 0.5em; text-align: right; border: none;\">\n        -1.367\n    </td>\n    <td style=\"padding: 0 0.5em 0 0.5em; text-align: left; border: none;\">\n        норма\n    </td>\n    \n</tr>\n        \n            <tr style=\"background-color: hsl(0, 100.00%, 90.83%); border: none;\">\n    <td style=\"padding: 0 1em 0 0.5em; text-align: right; border: none;\">\n        -1.374\n    </td>\n    <td style=\"padding: 0 0.5em 0 0.5em; text-align: left; border: none;\">\n        завышать\n    </td>\n    \n</tr>\n        \n            <tr style=\"background-color: hsl(0, 100.00%, 90.73%); border: none;\">\n    <td style=\"padding: 0 1em 0 0.5em; text-align: right; border: none;\">\n        -1.396\n    </td>\n    <td style=\"padding: 0 0.5em 0 0.5em; text-align: left; border: none;\">\n        услуга\n    </td>\n    \n</tr>\n        \n            <tr style=\"background-color: hsl(0, 100.00%, 90.72%); border: none;\">\n    <td style=\"padding: 0 1em 0 0.5em; text-align: right; border: none;\">\n        -1.398\n    </td>\n    <td style=\"padding: 0 0.5em 0 0.5em; text-align: left; border: none;\">\n        человек\n    </td>\n    \n</tr>\n        \n            <tr style=\"background-color: hsl(0, 100.00%, 90.68%); border: none;\">\n    <td style=\"padding: 0 1em 0 0.5em; text-align: right; border: none;\">\n        -1.407\n    </td>\n    <td style=\"padding: 0 0.5em 0 0.5em; text-align: left; border: none;\">\n        специалист готовый\n    </td>\n    \n</tr>\n        \n            <tr style=\"background-color: hsl(0, 100.00%, 90.67%); border: none;\">\n    <td style=\"padding: 0 1em 0 0.5em; text-align: right; border: none;\">\n        -1.409\n    </td>\n    <td style=\"padding: 0 0.5em 0 0.5em; text-align: left; border: none;\">\n        сделать рекомендовать\n    </td>\n    \n</tr>\n        \n            <tr style=\"background-color: hsl(0, 100.00%, 90.64%); border: none;\">\n    <td style=\"padding: 0 1em 0 0.5em; text-align: right; border: none;\">\n        -1.415\n    </td>\n    <td style=\"padding: 0 0.5em 0 0.5em; text-align: left; border: none;\">\n        плохо\n    </td>\n    \n</tr>\n        \n            <tr style=\"background-color: hsl(0, 100.00%, 90.51%); border: none;\">\n    <td style=\"padding: 0 1em 0 0.5em; text-align: right; border: none;\">\n        -1.444\n    </td>\n    <td style=\"padding: 0 0.5em 0 0.5em; text-align: left; border: none;\">\n        обязательный весь привозить\n    </td>\n    \n</tr>\n        \n            <tr style=\"background-color: hsl(0, 100.00%, 90.51%); border: none;\">\n    <td style=\"padding: 0 1em 0 0.5em; text-align: right; border: none;\">\n        -1.444\n    </td>\n    <td style=\"padding: 0 0.5em 0 0.5em; text-align: left; border: none;\">\n        обязательный весь\n    </td>\n    \n</tr>\n        \n            <tr style=\"background-color: hsl(0, 100.00%, 90.40%); border: none;\">\n    <td style=\"padding: 0 1em 0 0.5em; text-align: right; border: none;\">\n        -1.468\n    </td>\n    <td style=\"padding: 0 0.5em 0 0.5em; text-align: left; border: none;\">\n        трубка\n    </td>\n    \n</tr>\n        \n            <tr style=\"background-color: hsl(0, 100.00%, 90.39%); border: none;\">\n    <td style=\"padding: 0 1em 0 0.5em; text-align: right; border: none;\">\n        -1.469\n    </td>\n    <td style=\"padding: 0 0.5em 0 0.5em; text-align: left; border: none;\">\n        неделя\n    </td>\n    \n</tr>\n        \n            <tr style=\"background-color: hsl(0, 100.00%, 90.29%); border: none;\">\n    <td style=\"padding: 0 1em 0 0.5em; text-align: right; border: none;\">\n        -1.492\n    </td>\n    <td style=\"padding: 0 0.5em 0 0.5em; text-align: left; border: none;\">\n        указывать\n    </td>\n    \n</tr>\n        \n            <tr style=\"background-color: hsl(0, 100.00%, 90.28%); border: none;\">\n    <td style=\"padding: 0 1em 0 0.5em; text-align: right; border: none;\">\n        -1.493\n    </td>\n    <td style=\"padding: 0 0.5em 0 0.5em; text-align: left; border: none;\">\n        обращаться специалист\n    </td>\n    \n</tr>\n        \n            <tr style=\"background-color: hsl(0, 100.00%, 90.12%); border: none;\">\n    <td style=\"padding: 0 1em 0 0.5em; text-align: right; border: none;\">\n        -1.529\n    </td>\n    <td style=\"padding: 0 0.5em 0 0.5em; text-align: left; border: none;\">\n        пустой\n    </td>\n    \n</tr>\n        \n            <tr style=\"background-color: hsl(0, 100.00%, 90.08%); border: none;\">\n    <td style=\"padding: 0 1em 0 0.5em; text-align: right; border: none;\">\n        -1.537\n    </td>\n    <td style=\"padding: 0 0.5em 0 0.5em; text-align: left; border: none;\">\n        специалист справляться\n    </td>\n    \n</tr>\n        \n            <tr style=\"background-color: hsl(0, 100.00%, 90.08%); border: none;\">\n    <td style=\"padding: 0 1em 0 0.5em; text-align: right; border: none;\">\n        -1.538\n    </td>\n    <td style=\"padding: 0 0.5em 0 0.5em; text-align: left; border: none;\">\n        получать\n    </td>\n    \n</tr>\n        \n            <tr style=\"background-color: hsl(0, 100.00%, 90.06%); border: none;\">\n    <td style=\"padding: 0 1em 0 0.5em; text-align: right; border: none;\">\n        -1.542\n    </td>\n    <td style=\"padding: 0 0.5em 0 0.5em; text-align: left; border: none;\">\n        день\n    </td>\n    \n</tr>\n        \n            <tr style=\"background-color: hsl(0, 100.00%, 90.06%); border: none;\">\n    <td style=\"padding: 0 1em 0 0.5em; text-align: right; border: none;\">\n        -1.543\n    </td>\n    <td style=\"padding: 0 0.5em 0 0.5em; text-align: left; border: none;\">\n        отвечать\n    </td>\n    \n</tr>\n        \n            <tr style=\"background-color: hsl(0, 100.00%, 89.99%); border: none;\">\n    <td style=\"padding: 0 1em 0 0.5em; text-align: right; border: none;\">\n        -1.558\n    </td>\n    <td style=\"padding: 0 0.5em 0 0.5em; text-align: left; border: none;\">\n        работа выполнение\n    </td>\n    \n</tr>\n        \n            <tr style=\"background-color: hsl(0, 100.00%, 89.95%); border: none;\">\n    <td style=\"padding: 0 1em 0 0.5em; text-align: right; border: none;\">\n        -1.566\n    </td>\n    <td style=\"padding: 0 0.5em 0 0.5em; text-align: left; border: none;\">\n        обязательство\n    </td>\n    \n</tr>\n        \n            <tr style=\"background-color: hsl(0, 100.00%, 89.93%); border: none;\">\n    <td style=\"padding: 0 1em 0 0.5em; text-align: right; border: none;\">\n        -1.571\n    </td>\n    <td style=\"padding: 0 0.5em 0 0.5em; text-align: left; border: none;\">\n        делать\n    </td>\n    \n</tr>\n        \n            <tr style=\"background-color: hsl(0, 100.00%, 89.89%); border: none;\">\n    <td style=\"padding: 0 1em 0 0.5em; text-align: right; border: none;\">\n        -1.580\n    </td>\n    <td style=\"padding: 0 0.5em 0 0.5em; text-align: left; border: none;\">\n        привозить\n    </td>\n    \n</tr>\n        \n            <tr style=\"background-color: hsl(0, 100.00%, 89.85%); border: none;\">\n    <td style=\"padding: 0 1em 0 0.5em; text-align: right; border: none;\">\n        -1.590\n    </td>\n    <td style=\"padding: 0 0.5em 0 0.5em; text-align: left; border: none;\">\n        приезжать вовремя\n    </td>\n    \n</tr>\n        \n            <tr style=\"background-color: hsl(0, 100.00%, 89.84%); border: none;\">\n    <td style=\"padding: 0 1em 0 0.5em; text-align: right; border: none;\">\n        -1.592\n    </td>\n    <td style=\"padding: 0 0.5em 0 0.5em; text-align: left; border: none;\">\n        трата\n    </td>\n    \n</tr>\n        \n            <tr style=\"background-color: hsl(0, 100.00%, 89.80%); border: none;\">\n    <td style=\"padding: 0 1em 0 0.5em; text-align: right; border: none;\">\n        -1.600\n    </td>\n    <td style=\"padding: 0 0.5em 0 0.5em; text-align: left; border: none;\">\n        30\n    </td>\n    \n</tr>\n        \n            <tr style=\"background-color: hsl(0, 100.00%, 89.80%); border: none;\">\n    <td style=\"padding: 0 1em 0 0.5em; text-align: right; border: none;\">\n        -1.601\n    </td>\n    <td style=\"padding: 0 0.5em 0 0.5em; text-align: left; border: none;\">\n        заплатить\n    </td>\n    \n</tr>\n        \n            <tr style=\"background-color: hsl(0, 100.00%, 89.74%); border: none;\">\n    <td style=\"padding: 0 1em 0 0.5em; text-align: right; border: none;\">\n        -1.614\n    </td>\n    <td style=\"padding: 0 0.5em 0 0.5em; text-align: left; border: none;\">\n        обещание\n    </td>\n    \n</tr>\n        \n            <tr style=\"background-color: hsl(0, 100.00%, 89.57%); border: none;\">\n    <td style=\"padding: 0 1em 0 0.5em; text-align: right; border: none;\">\n        -1.653\n    </td>\n    <td style=\"padding: 0 0.5em 0 0.5em; text-align: left; border: none;\">\n        взять\n    </td>\n    \n</tr>\n        \n            <tr style=\"background-color: hsl(0, 100.00%, 89.56%); border: none;\">\n    <td style=\"padding: 0 1em 0 0.5em; text-align: right; border: none;\">\n        -1.654\n    </td>\n    <td style=\"padding: 0 0.5em 0 0.5em; text-align: left; border: none;\">\n        поздно\n    </td>\n    \n</tr>\n        \n            <tr style=\"background-color: hsl(0, 100.00%, 89.26%); border: none;\">\n    <td style=\"padding: 0 1em 0 0.5em; text-align: right; border: none;\">\n        -1.722\n    </td>\n    <td style=\"padding: 0 0.5em 0 0.5em; text-align: left; border: none;\">\n        работать быстро\n    </td>\n    \n</tr>\n        \n            <tr style=\"background-color: hsl(0, 100.00%, 89.22%); border: none;\">\n    <td style=\"padding: 0 1em 0 0.5em; text-align: right; border: none;\">\n        -1.731\n    </td>\n    <td style=\"padding: 0 0.5em 0 0.5em; text-align: left; border: none;\">\n        предупреждать\n    </td>\n    \n</tr>\n        \n            <tr style=\"background-color: hsl(0, 100.00%, 89.18%); border: none;\">\n    <td style=\"padding: 0 1em 0 0.5em; text-align: right; border: none;\">\n        -1.742\n    </td>\n    <td style=\"padding: 0 0.5em 0 0.5em; text-align: left; border: none;\">\n        итог\n    </td>\n    \n</tr>\n        \n            <tr style=\"background-color: hsl(0, 100.00%, 89.12%); border: none;\">\n    <td style=\"padding: 0 1em 0 0.5em; text-align: right; border: none;\">\n        -1.755\n    </td>\n    <td style=\"padding: 0 0.5em 0 0.5em; text-align: left; border: none;\">\n        оплата\n    </td>\n    \n</tr>\n        \n            <tr style=\"background-color: hsl(0, 100.00%, 89.05%); border: none;\">\n    <td style=\"padding: 0 1em 0 0.5em; text-align: right; border: none;\">\n        -1.770\n    </td>\n    <td style=\"padding: 0 0.5em 0 0.5em; text-align: left; border: none;\">\n        бриф\n    </td>\n    \n</tr>\n        \n            <tr style=\"background-color: hsl(0, 100.00%, 89.03%); border: none;\">\n    <td style=\"padding: 0 1em 0 0.5em; text-align: right; border: none;\">\n        -1.775\n    </td>\n    <td style=\"padding: 0 0.5em 0 0.5em; text-align: left; border: none;\">\n        деньги\n    </td>\n    \n</tr>\n        \n            <tr style=\"background-color: hsl(0, 100.00%, 88.96%); border: none;\">\n    <td style=\"padding: 0 1em 0 0.5em; text-align: right; border: none;\">\n        -1.793\n    </td>\n    <td style=\"padding: 0 0.5em 0 0.5em; text-align: left; border: none;\">\n        детальный\n    </td>\n    \n</tr>\n        \n            <tr style=\"background-color: hsl(0, 100.00%, 88.84%); border: none;\">\n    <td style=\"padding: 0 1em 0 0.5em; text-align: right; border: none;\">\n        -1.819\n    </td>\n    <td style=\"padding: 0 0.5em 0 0.5em; text-align: left; border: none;\">\n        ответственно\n    </td>\n    \n</tr>\n        \n            <tr style=\"background-color: hsl(0, 100.00%, 88.47%); border: none;\">\n    <td style=\"padding: 0 1em 0 0.5em; text-align: right; border: none;\">\n        -1.908\n    </td>\n    <td style=\"padding: 0 0.5em 0 0.5em; text-align: left; border: none;\">\n        профессиональный подход\n    </td>\n    \n</tr>\n        \n            <tr style=\"background-color: hsl(0, 100.00%, 88.43%); border: none;\">\n    <td style=\"padding: 0 1em 0 0.5em; text-align: right; border: none;\">\n        -1.916\n    </td>\n    <td style=\"padding: 0 0.5em 0 0.5em; text-align: left; border: none;\">\n        выходить\n    </td>\n    \n</tr>\n        \n            <tr style=\"background-color: hsl(0, 100.00%, 88.36%); border: none;\">\n    <td style=\"padding: 0 1em 0 0.5em; text-align: right; border: none;\">\n        -1.932\n    </td>\n    <td style=\"padding: 0 0.5em 0 0.5em; text-align: left; border: none;\">\n        потратить\n    </td>\n    \n</tr>\n        \n            <tr style=\"background-color: hsl(0, 100.00%, 88.17%); border: none;\">\n    <td style=\"padding: 0 1em 0 0.5em; text-align: right; border: none;\">\n        -1.979\n    </td>\n    <td style=\"padding: 0 0.5em 0 0.5em; text-align: left; border: none;\">\n        соответствие задание\n    </td>\n    \n</tr>\n        \n            <tr style=\"background-color: hsl(0, 100.00%, 88.08%); border: none;\">\n    <td style=\"padding: 0 1em 0 0.5em; text-align: right; border: none;\">\n        -1.999\n    </td>\n    <td style=\"padding: 0 0.5em 0 0.5em; text-align: left; border: none;\">\n        слово\n    </td>\n    \n</tr>\n        \n            <tr style=\"background-color: hsl(0, 100.00%, 87.65%); border: none;\">\n    <td style=\"padding: 0 1em 0 0.5em; text-align: right; border: none;\">\n        -2.104\n    </td>\n    <td style=\"padding: 0 0.5em 0 0.5em; text-align: left; border: none;\">\n        срок выполнение\n    </td>\n    \n</tr>\n        \n            <tr style=\"background-color: hsl(0, 100.00%, 87.42%); border: none;\">\n    <td style=\"padding: 0 1em 0 0.5em; text-align: right; border: none;\">\n        -2.160\n    </td>\n    <td style=\"padding: 0 0.5em 0 0.5em; text-align: left; border: none;\">\n        отвратительно\n    </td>\n    \n</tr>\n        \n            <tr style=\"background-color: hsl(0, 100.00%, 87.38%); border: none;\">\n    <td style=\"padding: 0 1em 0 0.5em; text-align: right; border: none;\">\n        -2.169\n    </td>\n    <td style=\"padding: 0 0.5em 0 0.5em; text-align: left; border: none;\">\n        пропадать\n    </td>\n    \n</tr>\n        \n            <tr style=\"background-color: hsl(0, 100.00%, 87.37%); border: none;\">\n    <td style=\"padding: 0 1em 0 0.5em; text-align: right; border: none;\">\n        -2.172\n    </td>\n    <td style=\"padding: 0 0.5em 0 0.5em; text-align: left; border: none;\">\n        подводить\n    </td>\n    \n</tr>\n        \n            <tr style=\"background-color: hsl(0, 100.00%, 87.20%); border: none;\">\n    <td style=\"padding: 0 1em 0 0.5em; text-align: right; border: none;\">\n        -2.215\n    </td>\n    <td style=\"padding: 0 0.5em 0 0.5em; text-align: left; border: none;\">\n        нормальный\n    </td>\n    \n</tr>\n        \n            <tr style=\"background-color: hsl(0, 100.00%, 86.99%); border: none;\">\n    <td style=\"padding: 0 1em 0 0.5em; text-align: right; border: none;\">\n        -2.266\n    </td>\n    <td style=\"padding: 0 0.5em 0 0.5em; text-align: left; border: none;\">\n        дизайн подходить\n    </td>\n    \n</tr>\n        \n            <tr style=\"background-color: hsl(0, 100.00%, 86.76%); border: none;\">\n    <td style=\"padding: 0 1em 0 0.5em; text-align: right; border: none;\">\n        -2.323\n    </td>\n    <td style=\"padding: 0 0.5em 0 0.5em; text-align: left; border: none;\">\n        хотя\n    </td>\n    \n</tr>\n        \n            <tr style=\"background-color: hsl(0, 100.00%, 86.40%); border: none;\">\n    <td style=\"padding: 0 1em 0 0.5em; text-align: right; border: none;\">\n        -2.414\n    </td>\n    <td style=\"padding: 0 0.5em 0 0.5em; text-align: left; border: none;\">\n        общение\n    </td>\n    \n</tr>\n        \n            <tr style=\"background-color: hsl(0, 100.00%, 86.04%); border: none;\">\n    <td style=\"padding: 0 1em 0 0.5em; text-align: right; border: none;\">\n        -2.505\n    </td>\n    <td style=\"padding: 0 0.5em 0 0.5em; text-align: left; border: none;\">\n        обещать\n    </td>\n    \n</tr>\n        \n            <tr style=\"background-color: hsl(0, 100.00%, 85.97%); border: none;\">\n    <td style=\"padding: 0 1em 0 0.5em; text-align: right; border: none;\">\n        -2.525\n    </td>\n    <td style=\"padding: 0 0.5em 0 0.5em; text-align: left; border: none;\">\n        отказываться\n    </td>\n    \n</tr>\n        \n            <tr style=\"background-color: hsl(0, 100.00%, 85.81%); border: none;\">\n    <td style=\"padding: 0 1em 0 0.5em; text-align: right; border: none;\">\n        -2.565\n    </td>\n    <td style=\"padding: 0 0.5em 0 0.5em; text-align: left; border: none;\">\n        логотип\n    </td>\n    \n</tr>\n        \n            <tr style=\"background-color: hsl(0, 100.00%, 85.56%); border: none;\">\n    <td style=\"padding: 0 1em 0 0.5em; text-align: right; border: none;\">\n        -2.629\n    </td>\n    <td style=\"padding: 0 0.5em 0 0.5em; text-align: left; border: none;\">\n        целое\n    </td>\n    \n</tr>\n        \n            <tr style=\"background-color: hsl(0, 100.00%, 85.37%); border: none;\">\n    <td style=\"padding: 0 1em 0 0.5em; text-align: right; border: none;\">\n        -2.680\n    </td>\n    <td style=\"padding: 0 0.5em 0 0.5em; text-align: left; border: none;\">\n        сожаление\n    </td>\n    \n</tr>\n        \n            <tr style=\"background-color: hsl(0, 100.00%, 85.12%); border: none;\">\n    <td style=\"padding: 0 1em 0 0.5em; text-align: right; border: none;\">\n        -2.746\n    </td>\n    <td style=\"padding: 0 0.5em 0 0.5em; text-align: left; border: none;\">\n        недорого\n    </td>\n    \n</tr>\n        \n            <tr style=\"background-color: hsl(0, 100.00%, 85.06%); border: none;\">\n    <td style=\"padding: 0 1em 0 0.5em; text-align: right; border: none;\">\n        -2.762\n    </td>\n    <td style=\"padding: 0 0.5em 0 0.5em; text-align: left; border: none;\">\n        ссылка\n    </td>\n    \n</tr>\n        \n            <tr style=\"background-color: hsl(0, 100.00%, 84.44%); border: none;\">\n    <td style=\"padding: 0 1em 0 0.5em; text-align: right; border: none;\">\n        -2.926\n    </td>\n    <td style=\"padding: 0 0.5em 0 0.5em; text-align: left; border: none;\">\n        порядочный\n    </td>\n    \n</tr>\n        \n            <tr style=\"background-color: hsl(0, 100.00%, 84.19%); border: none;\">\n    <td style=\"padding: 0 1em 0 0.5em; text-align: right; border: none;\">\n        -2.992\n    </td>\n    <td style=\"padding: 0 0.5em 0 0.5em; text-align: left; border: none;\">\n        некомпетентный\n    </td>\n    \n</tr>\n        \n            <tr style=\"background-color: hsl(0, 100.00%, 83.70%); border: none;\">\n    <td style=\"padding: 0 1em 0 0.5em; text-align: right; border: none;\">\n        -3.126\n    </td>\n    <td style=\"padding: 0 0.5em 0 0.5em; text-align: left; border: none;\">\n        аккуратно\n    </td>\n    \n</tr>\n        \n            <tr style=\"background-color: hsl(0, 100.00%, 83.60%); border: none;\">\n    <td style=\"padding: 0 1em 0 0.5em; text-align: right; border: none;\">\n        -3.155\n    </td>\n    <td style=\"padding: 0 0.5em 0 0.5em; text-align: left; border: none;\">\n        результат получать\n    </td>\n    \n</tr>\n        \n            <tr style=\"background-color: hsl(0, 100.00%, 83.32%); border: none;\">\n    <td style=\"padding: 0 1em 0 0.5em; text-align: right; border: none;\">\n        -3.233\n    </td>\n    <td style=\"padding: 0 0.5em 0 0.5em; text-align: left; border: none;\">\n        оценка\n    </td>\n    \n</tr>\n        \n            <tr style=\"background-color: hsl(0, 100.00%, 83.07%); border: none;\">\n    <td style=\"padding: 0 1em 0 0.5em; text-align: right; border: none;\">\n        -3.301\n    </td>\n    <td style=\"padding: 0 0.5em 0 0.5em; text-align: left; border: none;\">\n        приходиться\n    </td>\n    \n</tr>\n        \n            <tr style=\"background-color: hsl(0, 100.00%, 83.04%); border: none;\">\n    <td style=\"padding: 0 1em 0 0.5em; text-align: right; border: none;\">\n        -3.310\n    </td>\n    <td style=\"padding: 0 0.5em 0 0.5em; text-align: left; border: none;\">\n        срабатываться\n    </td>\n    \n</tr>\n        \n            <tr style=\"background-color: hsl(0, 100.00%, 82.94%); border: none;\">\n    <td style=\"padding: 0 1em 0 0.5em; text-align: right; border: none;\">\n        -3.338\n    </td>\n    <td style=\"padding: 0 0.5em 0 0.5em; text-align: left; border: none;\">\n        маникюр\n    </td>\n    \n</tr>\n        \n            <tr style=\"background-color: hsl(0, 100.00%, 81.41%); border: none;\">\n    <td style=\"padding: 0 1em 0 0.5em; text-align: right; border: none;\">\n        -3.774\n    </td>\n    <td style=\"padding: 0 0.5em 0 0.5em; text-align: left; border: none;\">\n        замечание\n    </td>\n    \n</tr>\n        \n            <tr style=\"background-color: hsl(0, 100.00%, 80.00%); border: none;\">\n    <td style=\"padding: 0 1em 0 0.5em; text-align: right; border: none;\">\n        -4.188\n    </td>\n    <td style=\"padding: 0 0.5em 0 0.5em; text-align: left; border: none;\">\n        пунктуальность\n    </td>\n    \n</tr>\n        \n\n        </tbody>\n    </table>\n\n            \n        \n\n        \n\n\n\n    \n\n    \n\n    \n\n    \n\n\n    \n\n    \n\n    \n\n    \n\n    \n\n    \n\n\n    \n\n    \n\n    \n\n    \n\n    \n\n    \n\n\n\n"
     },
     "execution_count": 63,
     "metadata": {},
     "output_type": "execute_result"
    }
   ],
   "source": [
    "eli5.sklearn.explain_weights_sklearn(log_f, vec=vec_fb, top=100)"
   ],
   "metadata": {
    "collapsed": false,
    "pycharm": {
     "name": "#%%\n"
    }
   }
  },
  {
   "cell_type": "markdown",
   "source": [
    "в топе у женщин вообще нет слов профессионал, компетентный и т. д.\n",
    "зато они есть в антитопе, а вот у мужчин наоборот"
   ],
   "metadata": {
    "collapsed": false
   }
  },
  {
   "cell_type": "code",
   "execution_count": null,
   "outputs": [],
   "source": [],
   "metadata": {
    "collapsed": false,
    "pycharm": {
     "name": "#%%\n"
    }
   }
  }
 ],
 "metadata": {
  "kernelspec": {
   "display_name": "Python 3",
   "language": "python",
   "name": "python3"
  },
  "language_info": {
   "codemirror_mode": {
    "name": "ipython",
    "version": 2
   },
   "file_extension": ".py",
   "mimetype": "text/x-python",
   "name": "python",
   "nbconvert_exporter": "python",
   "pygments_lexer": "ipython2",
   "version": "2.7.6"
  }
 },
 "nbformat": 4,
 "nbformat_minor": 0
}